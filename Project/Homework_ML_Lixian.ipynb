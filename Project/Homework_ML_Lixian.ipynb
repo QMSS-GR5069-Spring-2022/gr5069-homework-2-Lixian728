{
  "nbformat": 4,
  "nbformat_minor": 0,
  "metadata": {
    "kernelspec": {
      "display_name": "Python 3",
      "language": "python",
      "name": "python3"
    },
    "language_info": {
      "codemirror_mode": {
        "name": "ipython",
        "version": 3
      },
      "file_extension": ".py",
      "mimetype": "text/x-python",
      "name": "python",
      "nbconvert_exporter": "python",
      "pygments_lexer": "ipython3",
      "version": "3.7.4"
    },
    "colab": {
      "name": "HW2_Lixian.ipynb",
      "provenance": [],
      "collapsed_sections": []
    }
  },
  "cells": [
    {
      "cell_type": "code",
      "metadata": {
        "id": "9pk47CcspYiJ"
      },
      "source": [
        "#Import Python Libraries\n",
        "import numpy as np\n",
        "import scipy as sp\n",
        "import pandas as pd\n",
        "import matplotlib as mpl\n",
        "import matplotlib.pyplot as plt\n",
        "import seaborn as sns"
      ],
      "execution_count": 1,
      "outputs": []
    },
    {
      "cell_type": "markdown",
      "metadata": {
        "id": "69M1ApKjpYiL"
      },
      "source": [
        "## Part 1: Regression on California Test Scores"
      ]
    },
    {
      "cell_type": "markdown",
      "metadata": {
        "id": "AUSMJoLcpYiM"
      },
      "source": [
        "**1.**Find the url for the California Test Score Data Set from the following website:\n",
        "https://vincentarelbundock.github.io/Rdatasets/datasets.html\n",
        "\n",
        "Read through the \"DOC\" fle to understand the variables in the dataset, then use the following url to import the data.\n",
        "\n",
        "https://vincentarelbundock.github.io/Rdatasets/csv/Ecdat/Caschool.csv\n",
        "\n",
        "The target data (i.e. the dependent variable) is named \"testscr\". You can use all variables in the data except for \"readscr\" and \"mathscr\" in the following analysis. (These two variables were used to generate the dependent variable)."
      ]
    },
    {
      "cell_type": "code",
      "metadata": {
        "id": "6AJr0_4HpYiN"
      },
      "source": [
        "df = pd.read_csv(\"https://vincentarelbundock.github.io/Rdatasets/csv/Ecdat/Caschool.csv\")"
      ],
      "execution_count": 2,
      "outputs": []
    },
    {
      "cell_type": "markdown",
      "metadata": {
        "id": "3od-HZbypYiO"
      },
      "source": [
        "**1.1** Visualize the univariate distribution of the target feature and each of the three continuous explanatory variables that you think are likely to have a relationship with the target feature."
      ]
    },
    {
      "cell_type": "code",
      "metadata": {
        "colab": {
          "base_uri": "https://localhost:8080/",
          "height": 1000
        },
        "id": "IeKRIjVZpYiO",
        "outputId": "1b2059da-f00f-44d8-9062-d88186ba8ef2"
      },
      "source": [
        "df['testscr'].hist()\n",
        "plt.xlabel('Average Test Score')\n",
        "plt.ylabel('Count')\n",
        "plt.show()\n",
        "\n",
        "df['avginc'].hist()\n",
        "plt.xlabel('District Average Income')\n",
        "plt.ylabel('Count')\n",
        "plt.show()\n",
        "\n",
        "df['elpct'].hist()\n",
        "plt.xlabel('Percent of English Learners')\n",
        "plt.ylabel('Count')\n",
        "plt.show()\n",
        "\n",
        "df['str'].hist()\n",
        "plt.xlabel('Student Teacher Ratio')\n",
        "plt.ylabel('Count')\n",
        "plt.show()"
      ],
      "execution_count": 3,
      "outputs": [
        {
          "output_type": "display_data",
          "data": {
            "image/png": "[encoded data removed]",
            "text/plain": [
              "<Figure size 432x288 with 1 Axes>"
            ]
          },
          "metadata": {
            "needs_background": "light"
          }
        },
        {
          "output_type": "display_data",
          "data": {
            "image/png": "[encoded data removed]",
            "text/plain": [
              "<Figure size 432x288 with 1 Axes>"
            ]
          },
          "metadata": {
            "needs_background": "light"
          }
        },
        {
          "output_type": "display_data",
          "data": {
            "image/png": "[encoded data removed]",
            "text/plain": [
              "<Figure size 432x288 with 1 Axes>"
            ]
          },
          "metadata": {
            "needs_background": "light"
          }
        },
        {
          "output_type": "display_data",
          "data": {
            "image/png": "[encoded data removed]",
            "text/plain": [
              "<Figure size 432x288 with 1 Axes>"
            ]
          },
          "metadata": {
            "needs_background": "light"
          }
        }
      ]
    },
    {
      "cell_type": "markdown",
      "metadata": {
        "id": "4XbopYhBpYiQ"
      },
      "source": [
        "**1.2** Visualize the dependency of the target on each feature from 1.1."
      ]
    },
    {
      "cell_type": "code",
      "metadata": {
        "colab": {
          "base_uri": "https://localhost:8080/",
          "height": 803
        },
        "id": "JzN-Z4tupYiQ",
        "outputId": "fd5c354d-3cc4-48fb-eb11-10861ab5208b"
      },
      "source": [
        "plt.scatter(df['avginc'], df['testscr'], s = 10.)\n",
        "plt.xlabel(\"District Average Income\")\n",
        "plt.ylabel(\"Average Test Score\")\n",
        "plt.show()\n",
        "\n",
        "plt.scatter(df['elpct'], df['testscr'], s = 10.)\n",
        "plt.xlabel(\"Percent of English Learners\")\n",
        "plt.ylabel(\"Average Test Score\")\n",
        "plt.show()\n",
        "\n",
        "plt.scatter(df['str'], df['testscr'], s = 10.)\n",
        "plt.xlabel(\"Student Teacher Ratio\")\n",
        "plt.ylabel(\"Average Test Score\")\n",
        "plt.show()"
      ],
      "execution_count": 4,
      "outputs": [
        {
          "output_type": "display_data",
          "data": {
            "image/png": "[encoded data removed]",
            "text/plain": [
              "<Figure size 432x288 with 1 Axes>"
            ]
          },
          "metadata": {
            "needs_background": "light"
          }
        },
        {
          "output_type": "display_data",
          "data": {
            "image/png": "[encoded data removed]",
            "text/plain": [
              "<Figure size 432x288 with 1 Axes>"
            ]
          },
          "metadata": {
            "needs_background": "light"
          }
        },
        {
          "output_type": "display_data",
          "data": {
            "image/png": "[encoded data removed]",
            "text/plain": [
              "<Figure size 432x288 with 1 Axes>"
            ]
          },
          "metadata": {
            "needs_background": "light"
          }
        }
      ]
    },
    {
      "cell_type": "markdown",
      "metadata": {
        "id": "_G7X34_UpYiR"
      },
      "source": [
        "**1.3** Split data in training and test set. Build models that evaluate the relationship between all available X variables in the California test dataset and the target variable. Evaluate KNN for regression, Linear Regression (OLS), Ridge, and Lasso using cross-validation with the default parameters. Does scaling the data with the StandardScaler help?"
      ]
    },
    {
      "cell_type": "code",
      "metadata": {
        "colab": {
          "base_uri": "https://localhost:8080/",
          "height": 394
        },
        "id": "T7prsL970cFz",
        "outputId": "9f4026ba-bae8-41fd-d460-b98c73db5479"
      },
      "source": [
        "df.head()"
      ],
      "execution_count": 5,
      "outputs": [
        {
          "output_type": "execute_result",
          "data": {
            "text/html": [
              "<div>\n",
              "<style scoped>\n",
              "    .dataframe tbody tr th:only-of-type {\n",
              "        vertical-align: middle;\n",
              "    }\n",
              "\n",
              "    .dataframe tbody tr th {\n",
              "        vertical-align: top;\n",
              "    }\n",
              "\n",
              "    .dataframe thead th {\n",
              "        text-align: right;\n",
              "    }\n",
              "</style>\n",
              "<table border=\"1\" class=\"dataframe\">\n",
              "  <thead>\n",
              "    <tr style=\"text-align: right;\">\n",
              "      <th></th>\n",
              "      <th>Unnamed: 0</th>\n",
              "      <th>distcod</th>\n",
              "      <th>county</th>\n",
              "      <th>district</th>\n",
              "      <th>grspan</th>\n",
              "      <th>enrltot</th>\n",
              "      <th>teachers</th>\n",
              "      <th>calwpct</th>\n",
              "      <th>mealpct</th>\n",
              "      <th>computer</th>\n",
              "      <th>testscr</th>\n",
              "      <th>compstu</th>\n",
              "      <th>expnstu</th>\n",
              "      <th>str</th>\n",
              "      <th>avginc</th>\n",
              "      <th>elpct</th>\n",
              "      <th>readscr</th>\n",
              "      <th>mathscr</th>\n",
              "    </tr>\n",
              "  </thead>\n",
              "  <tbody>\n",
              "    <tr>\n",
              "      <th>0</th>\n",
              "      <td>1</td>\n",
              "      <td>75119</td>\n",
              "      <td>Alameda</td>\n",
              "      <td>Sunol Glen Unified</td>\n",
              "      <td>KK-08</td>\n",
              "      <td>195</td>\n",
              "      <td>10.900000</td>\n",
              "      <td>0.510200</td>\n",
              "      <td>2.040800</td>\n",
              "      <td>67</td>\n",
              "      <td>690.799988</td>\n",
              "      <td>0.343590</td>\n",
              "      <td>6384.911133</td>\n",
              "      <td>17.889910</td>\n",
              "      <td>22.690001</td>\n",
              "      <td>0.000000</td>\n",
              "      <td>691.599976</td>\n",
              "      <td>690.000000</td>\n",
              "    </tr>\n",
              "    <tr>\n",
              "      <th>1</th>\n",
              "      <td>2</td>\n",
              "      <td>61499</td>\n",
              "      <td>Butte</td>\n",
              "      <td>Manzanita Elementary</td>\n",
              "      <td>KK-08</td>\n",
              "      <td>240</td>\n",
              "      <td>11.150000</td>\n",
              "      <td>15.416700</td>\n",
              "      <td>47.916698</td>\n",
              "      <td>101</td>\n",
              "      <td>661.200012</td>\n",
              "      <td>0.420833</td>\n",
              "      <td>5099.380859</td>\n",
              "      <td>21.524664</td>\n",
              "      <td>9.824000</td>\n",
              "      <td>4.583333</td>\n",
              "      <td>660.500000</td>\n",
              "      <td>661.900024</td>\n",
              "    </tr>\n",
              "    <tr>\n",
              "      <th>2</th>\n",
              "      <td>3</td>\n",
              "      <td>61549</td>\n",
              "      <td>Butte</td>\n",
              "      <td>Thermalito Union Elementary</td>\n",
              "      <td>KK-08</td>\n",
              "      <td>1550</td>\n",
              "      <td>82.900002</td>\n",
              "      <td>55.032299</td>\n",
              "      <td>76.322601</td>\n",
              "      <td>169</td>\n",
              "      <td>643.599976</td>\n",
              "      <td>0.109032</td>\n",
              "      <td>5501.954590</td>\n",
              "      <td>18.697226</td>\n",
              "      <td>8.978000</td>\n",
              "      <td>30.000002</td>\n",
              "      <td>636.299988</td>\n",
              "      <td>650.900024</td>\n",
              "    </tr>\n",
              "    <tr>\n",
              "      <th>3</th>\n",
              "      <td>4</td>\n",
              "      <td>61457</td>\n",
              "      <td>Butte</td>\n",
              "      <td>Golden Feather Union Elementary</td>\n",
              "      <td>KK-08</td>\n",
              "      <td>243</td>\n",
              "      <td>14.000000</td>\n",
              "      <td>36.475399</td>\n",
              "      <td>77.049202</td>\n",
              "      <td>85</td>\n",
              "      <td>647.700012</td>\n",
              "      <td>0.349794</td>\n",
              "      <td>7101.831055</td>\n",
              "      <td>17.357143</td>\n",
              "      <td>8.978000</td>\n",
              "      <td>0.000000</td>\n",
              "      <td>651.900024</td>\n",
              "      <td>643.500000</td>\n",
              "    </tr>\n",
              "    <tr>\n",
              "      <th>4</th>\n",
              "      <td>5</td>\n",
              "      <td>61523</td>\n",
              "      <td>Butte</td>\n",
              "      <td>Palermo Union Elementary</td>\n",
              "      <td>KK-08</td>\n",
              "      <td>1335</td>\n",
              "      <td>71.500000</td>\n",
              "      <td>33.108601</td>\n",
              "      <td>78.427002</td>\n",
              "      <td>171</td>\n",
              "      <td>640.849976</td>\n",
              "      <td>0.128090</td>\n",
              "      <td>5235.987793</td>\n",
              "      <td>18.671329</td>\n",
              "      <td>9.080333</td>\n",
              "      <td>13.857677</td>\n",
              "      <td>641.799988</td>\n",
              "      <td>639.900024</td>\n",
              "    </tr>\n",
              "  </tbody>\n",
              "</table>\n",
              "</div>"
            ],
            "text/plain": [
              "   Unnamed: 0  distcod   county  ...      elpct     readscr     mathscr\n",
              "0           1    75119  Alameda  ...   0.000000  691.599976  690.000000\n",
              "1           2    61499    Butte  ...   4.583333  660.500000  661.900024\n",
              "2           3    61549    Butte  ...  30.000002  636.299988  650.900024\n",
              "3           4    61457    Butte  ...   0.000000  651.900024  643.500000\n",
              "4           5    61523    Butte  ...  13.857677  641.799988  639.900024\n",
              "\n",
              "[5 rows x 18 columns]"
            ]
          },
          "metadata": {},
          "execution_count": 5
        }
      ]
    },
    {
      "cell_type": "code",
      "metadata": {
        "colab": {
          "base_uri": "https://localhost:8080/",
          "height": 204
        },
        "id": "-aV5PrWv1fTQ",
        "outputId": "7aec3993-139e-4156-804e-6d97f4c27f10"
      },
      "source": [
        "data = df.copy()\n",
        "data.drop(['distcod','county','district','grspan','Unnamed: 0','readscr', 'mathscr'], axis = 1, inplace = True)\n",
        "data.head()"
      ],
      "execution_count": 6,
      "outputs": [
        {
          "output_type": "execute_result",
          "data": {
            "text/html": [
              "<div>\n",
              "<style scoped>\n",
              "    .dataframe tbody tr th:only-of-type {\n",
              "        vertical-align: middle;\n",
              "    }\n",
              "\n",
              "    .dataframe tbody tr th {\n",
              "        vertical-align: top;\n",
              "    }\n",
              "\n",
              "    .dataframe thead th {\n",
              "        text-align: right;\n",
              "    }\n",
              "</style>\n",
              "<table border=\"1\" class=\"dataframe\">\n",
              "  <thead>\n",
              "    <tr style=\"text-align: right;\">\n",
              "      <th></th>\n",
              "      <th>enrltot</th>\n",
              "      <th>teachers</th>\n",
              "      <th>calwpct</th>\n",
              "      <th>mealpct</th>\n",
              "      <th>computer</th>\n",
              "      <th>testscr</th>\n",
              "      <th>compstu</th>\n",
              "      <th>expnstu</th>\n",
              "      <th>str</th>\n",
              "      <th>avginc</th>\n",
              "      <th>elpct</th>\n",
              "    </tr>\n",
              "  </thead>\n",
              "  <tbody>\n",
              "    <tr>\n",
              "      <th>0</th>\n",
              "      <td>195</td>\n",
              "      <td>10.900000</td>\n",
              "      <td>0.510200</td>\n",
              "      <td>2.040800</td>\n",
              "      <td>67</td>\n",
              "      <td>690.799988</td>\n",
              "      <td>0.343590</td>\n",
              "      <td>6384.911133</td>\n",
              "      <td>17.889910</td>\n",
              "      <td>22.690001</td>\n",
              "      <td>0.000000</td>\n",
              "    </tr>\n",
              "    <tr>\n",
              "      <th>1</th>\n",
              "      <td>240</td>\n",
              "      <td>11.150000</td>\n",
              "      <td>15.416700</td>\n",
              "      <td>47.916698</td>\n",
              "      <td>101</td>\n",
              "      <td>661.200012</td>\n",
              "      <td>0.420833</td>\n",
              "      <td>5099.380859</td>\n",
              "      <td>21.524664</td>\n",
              "      <td>9.824000</td>\n",
              "      <td>4.583333</td>\n",
              "    </tr>\n",
              "    <tr>\n",
              "      <th>2</th>\n",
              "      <td>1550</td>\n",
              "      <td>82.900002</td>\n",
              "      <td>55.032299</td>\n",
              "      <td>76.322601</td>\n",
              "      <td>169</td>\n",
              "      <td>643.599976</td>\n",
              "      <td>0.109032</td>\n",
              "      <td>5501.954590</td>\n",
              "      <td>18.697226</td>\n",
              "      <td>8.978000</td>\n",
              "      <td>30.000002</td>\n",
              "    </tr>\n",
              "    <tr>\n",
              "      <th>3</th>\n",
              "      <td>243</td>\n",
              "      <td>14.000000</td>\n",
              "      <td>36.475399</td>\n",
              "      <td>77.049202</td>\n",
              "      <td>85</td>\n",
              "      <td>647.700012</td>\n",
              "      <td>0.349794</td>\n",
              "      <td>7101.831055</td>\n",
              "      <td>17.357143</td>\n",
              "      <td>8.978000</td>\n",
              "      <td>0.000000</td>\n",
              "    </tr>\n",
              "    <tr>\n",
              "      <th>4</th>\n",
              "      <td>1335</td>\n",
              "      <td>71.500000</td>\n",
              "      <td>33.108601</td>\n",
              "      <td>78.427002</td>\n",
              "      <td>171</td>\n",
              "      <td>640.849976</td>\n",
              "      <td>0.128090</td>\n",
              "      <td>5235.987793</td>\n",
              "      <td>18.671329</td>\n",
              "      <td>9.080333</td>\n",
              "      <td>13.857677</td>\n",
              "    </tr>\n",
              "  </tbody>\n",
              "</table>\n",
              "</div>"
            ],
            "text/plain": [
              "   enrltot   teachers    calwpct  ...        str     avginc      elpct\n",
              "0      195  10.900000   0.510200  ...  17.889910  22.690001   0.000000\n",
              "1      240  11.150000  15.416700  ...  21.524664   9.824000   4.583333\n",
              "2     1550  82.900002  55.032299  ...  18.697226   8.978000  30.000002\n",
              "3      243  14.000000  36.475399  ...  17.357143   8.978000   0.000000\n",
              "4     1335  71.500000  33.108601  ...  18.671329   9.080333  13.857677\n",
              "\n",
              "[5 rows x 11 columns]"
            ]
          },
          "metadata": {},
          "execution_count": 6
        }
      ]
    },
    {
      "cell_type": "code",
      "metadata": {
        "id": "2MDwq3mFpYiR"
      },
      "source": [
        "y = data['testscr']\n",
        "X = data.loc[:, data.columns != 'testscr']\n",
        "# Split data in training and test set\n",
        "from sklearn.model_selection import train_test_split\n",
        "X_train, X_test, y_train, y_test = train_test_split(X, y, random_state = 42)\n",
        "\n",
        "# Data Scaling\n",
        "from sklearn import preprocessing\n",
        "from sklearn.preprocessing import StandardScaler\n",
        "scaler = StandardScaler().fit(X_train)\n",
        "X_train_scaled = scaler.transform(X_train) \n",
        "X_test_scaled = scaler.transform(X_test)"
      ],
      "execution_count": 7,
      "outputs": []
    },
    {
      "cell_type": "markdown",
      "metadata": {
        "id": "WGA_GnshpYiR"
      },
      "source": [
        "- KNN"
      ]
    },
    {
      "cell_type": "code",
      "metadata": {
        "colab": {
          "base_uri": "https://localhost:8080/"
        },
        "id": "Cg3VuwwYpYiS",
        "outputId": "6613635f-97c4-4e03-be5f-2cb0dc9edee2"
      },
      "source": [
        "from sklearn.neighbors import KNeighborsRegressor\n",
        "from sklearn.model_selection import cross_val_score\n",
        "from statistics import mean\n",
        "\n",
        "# KNN with unscaled data\n",
        "knn = KNeighborsRegressor()\n",
        "knn.fit(X_train, y_train)\n",
        "print(\"Train score:{:.3f}\".format(\n",
        "mean(cross_val_score(KNeighborsRegressor(), X_train, y_train))))\n",
        "print(\"Test score:{:.3f}\".format(knn.score(X_test, y_test)))\n",
        "\n",
        "# KNN with scaled the data\n",
        "knn1 = KNeighborsRegressor()\n",
        "knn1.fit(X_train_scaled, y_train)\n",
        "print(\"\\n\")\n",
        "print(\"Train score:{:.3f}\".format(\n",
        "mean(cross_val_score(KNeighborsRegressor(), X_train_scaled, y_train))))\n",
        "print(\"Test score:{:.3f}\".format(knn1.score(X_test_scaled, y_test)))"
      ],
      "execution_count": 8,
      "outputs": [
        {
          "output_type": "stream",
          "name": "stdout",
          "text": [
            "Train score:-0.054\n",
            "Test score:0.085\n",
            "\n",
            "\n",
            "Train score:0.711\n",
            "Test score:0.769\n"
          ]
        }
      ]
    },
    {
      "cell_type": "markdown",
      "metadata": {
        "id": "6MGCqUeApYiT"
      },
      "source": [
        "Scaling data helps a lot in the KNN model! The test score changes from 0.085 to 0.769 here.\n",
        "\n",
        "---\n",
        "\n"
      ]
    },
    {
      "cell_type": "markdown",
      "metadata": {
        "id": "o-Jrv6ocpYiT"
      },
      "source": [
        "- Linear Regression"
      ]
    },
    {
      "cell_type": "code",
      "metadata": {
        "scrolled": true,
        "colab": {
          "base_uri": "https://localhost:8080/"
        },
        "id": "VkPn3JBqpYiT",
        "outputId": "bb5e3b12-0408-4b8a-d84b-33b8f3bf040c"
      },
      "source": [
        "from sklearn.linear_model import LinearRegression\n",
        "\n",
        "# Linear Regression with unscaled data\n",
        "lr = LinearRegression()\n",
        "lr.fit(X_train, y_train)\n",
        "print(\"Train score:{:.3f}\".format(\n",
        "mean(cross_val_score(LinearRegression(), X_train, y_train))))\n",
        "print(\"Test score: {:.3f}\".format(lr.score(X_test, y_test)))\n",
        "\n",
        "# Linear Regression with scaled the data\n",
        "lr1 = LinearRegression()\n",
        "lr1.fit(X_train_scaled, y_train)\n",
        "print(\"\\n\")\n",
        "print(\"Train score:{:.3f}\".format(\n",
        "mean(cross_val_score(LinearRegression(), X_train_scaled, y_train))))\n",
        "print(\"Test score: {:.5f}\".format(lr1.score(X_test_scaled, y_test)))"
      ],
      "execution_count": 9,
      "outputs": [
        {
          "output_type": "stream",
          "name": "stdout",
          "text": [
            "Train score:0.781\n",
            "Test score: 0.807\n",
            "\n",
            "\n",
            "Train score:0.781\n",
            "Test score: 0.80702\n"
          ]
        }
      ]
    },
    {
      "cell_type": "markdown",
      "metadata": {
        "id": "JsAu5dgQ89j8"
      },
      "source": [
        "Scaling data doesn't help much in linear regression. The test score and the train score nearly don't change."
      ]
    },
    {
      "cell_type": "markdown",
      "metadata": {
        "id": "qLZiXqN4pYiV"
      },
      "source": [
        "- Ridge Regression"
      ]
    },
    {
      "cell_type": "code",
      "metadata": {
        "colab": {
          "base_uri": "https://localhost:8080/"
        },
        "id": "0L4KmlWopYiV",
        "outputId": "3397637e-fcf7-4ab9-8ba4-b106caf55c98"
      },
      "source": [
        "from sklearn.linear_model import Ridge\n",
        "\n",
        "# Ridge Regression with unscaled data\n",
        "ridge = Ridge().fit(X_train, y_train)\n",
        "print(\"Train score:{:.3f}\".format(\n",
        "mean(cross_val_score(Ridge(), X_train, y_train))))\n",
        "print(\"Test score: {:.3f}\".format(ridge.score(X_test, y_test)))\n",
        "\n",
        "# Ridge Regression with scaled data\n",
        "ridge1 = Ridge().fit(X_train_scaled, y_train)\n",
        "print(\"\\n\")\n",
        "print(\"Train score:{:.3f}\".format(\n",
        "mean(cross_val_score(Ridge(), X_train_scaled, y_train))))\n",
        "print(\"Test score: {:.5f}\".format(ridge1.score(X_test_scaled, y_test)))"
      ],
      "execution_count": 10,
      "outputs": [
        {
          "output_type": "stream",
          "name": "stdout",
          "text": [
            "Train score:0.783\n",
            "Test score: 0.807\n",
            "\n",
            "\n",
            "Train score:0.783\n",
            "Test score: 0.80697\n"
          ]
        }
      ]
    },
    {
      "cell_type": "markdown",
      "metadata": {
        "id": "_CZARfxtpYiW"
      },
      "source": [
        "Scaling data doesn't help much in ridge regression. The test score and the train score nearly don't change."
      ]
    },
    {
      "cell_type": "markdown",
      "metadata": {
        "id": "LDlNOrG3pYiX"
      },
      "source": [
        "- Lasso Regression"
      ]
    },
    {
      "cell_type": "code",
      "metadata": {
        "colab": {
          "base_uri": "https://localhost:8080/"
        },
        "id": "yqRrxsidpYiX",
        "outputId": "57c6b5ce-b53d-4152-f84c-72e048a2d20d"
      },
      "source": [
        "from sklearn.linear_model import Lasso\n",
        "\n",
        "# Lasso Regression with unscaled data\n",
        "lasso = Lasso().fit(X_train, y_train)\n",
        "print(\"Train score:{:.3f}\".format(\n",
        "mean(cross_val_score(Lasso(), X_train, y_train))))\n",
        "print(\"Test score: {:.3f}\".format(lasso.score(X_test, y_test)))\n",
        "\n",
        "# Lasso Regression with scaled data\n",
        "lasso1 = Lasso().fit(X_train_scaled, y_train)\n",
        "print(\"\\n\")\n",
        "print(\"Train score:{:.3f}\".format(\n",
        "mean(cross_val_score(Lasso(), X_train_scaled, y_train))))\n",
        "print(\"Test score: {:.3f}\".format(lasso1.score(X_test_scaled, y_test)))"
      ],
      "execution_count": 11,
      "outputs": [
        {
          "output_type": "stream",
          "name": "stdout",
          "text": [
            "Train score:0.787\n",
            "Test score: 0.807\n",
            "\n",
            "\n",
            "Train score:0.784\n",
            "Test score: 0.786\n"
          ]
        },
        {
          "output_type": "stream",
          "name": "stderr",
          "text": [
            "/usr/local/lib/python3.7/dist-packages/sklearn/linear_model/_coordinate_descent.py:476: ConvergenceWarning: Objective did not converge. You might want to increase the number of iterations. Duality gap: 41.32371148919992, tolerance: 10.135477633342422\n",
            "  positive)\n",
            "/usr/local/lib/python3.7/dist-packages/sklearn/linear_model/_coordinate_descent.py:476: ConvergenceWarning: Objective did not converge. You might want to increase the number of iterations. Duality gap: 24.776310905559512, tolerance: 7.975809273265566\n",
            "  positive)\n",
            "/usr/local/lib/python3.7/dist-packages/sklearn/linear_model/_coordinate_descent.py:476: ConvergenceWarning: Objective did not converge. You might want to increase the number of iterations. Duality gap: 1451.5511712081152, tolerance: 7.8882868917286695\n",
            "  positive)\n",
            "/usr/local/lib/python3.7/dist-packages/sklearn/linear_model/_coordinate_descent.py:476: ConvergenceWarning: Objective did not converge. You might want to increase the number of iterations. Duality gap: 2799.6911917573225, tolerance: 8.25802898609718\n",
            "  positive)\n"
          ]
        }
      ]
    },
    {
      "cell_type": "markdown",
      "metadata": {
        "id": "Y6qage_MpYiY"
      },
      "source": [
        "The score in Lasso regression with scaled data is a little bit lower than the regression with unscaled data. "
      ]
    },
    {
      "cell_type": "markdown",
      "metadata": {
        "id": "K4f4OFfJpYiY"
      },
      "source": [
        "**1.4** Tune the parameters of the models where possible using GridSearchCV. Do\n",
        "the results improve?"
      ]
    },
    {
      "cell_type": "code",
      "metadata": {
        "scrolled": true,
        "colab": {
          "base_uri": "https://localhost:8080/"
        },
        "id": "4hVmUfetpYiY",
        "outputId": "4437d4e2-c423-4276-a2e1-2eebdfb32b57"
      },
      "source": [
        "# Here all models used scaled data\n",
        "from sklearn.model_selection import GridSearchCV\n",
        "# KNN with GridSearchCV\n",
        "param_grid1 = {'n_neighbors': np.arange(1, 20, 2)}\n",
        "grid1 = GridSearchCV(KNeighborsRegressor(), param_grid=param_grid1, cv=5)\n",
        "grid1.fit(X_train_scaled, y_train)\n",
        "print(\"best mean cross-validation score: {:.3f}\".format(grid1.best_score_))\n",
        "print(\"best parameters: {}\".format(grid1.best_params_))\n",
        "print(\"test-set score: {:.3f}\".format(grid1.score(X_test_scaled, y_test)))\n",
        "# Ridge with GridSearchCV\n",
        "param_grid2 = {'alpha': np.arange(0.1, 30, 0.1)}\n",
        "grid2 = GridSearchCV(Ridge(), param_grid = param_grid2, cv = 5)\n",
        "grid2.fit(X_train_scaled, y_train)\n",
        "print(\"\\n\")\n",
        "print(\"best mean cross-validation score: {:.3f}\".format(grid2.best_score_))\n",
        "print(\"best parameters: {}\".format(grid2.best_params_))\n",
        "print(\"test-set score: {:.3f}\".format(grid2.score(X_test_scaled, y_test)))\n",
        "# Lasso with GridSearchCV\n",
        "param_grid3 = {'alpha': np.arange(0.1, 20, 0.1)}\n",
        "grid3 = GridSearchCV(Lasso(), param_grid = param_grid3, cv = 5)\n",
        "grid3.fit(X_train_scaled, y_train)\n",
        "print(\"\\n\")\n",
        "print(\"best mean cross-validation score: {:.3f}\".format(grid3.best_score_))\n",
        "print(\"best parameters: {}\".format(grid3.best_params_))\n",
        "print(\"test-set score: {:.3f}\".format(grid3.score(X_test_scaled, y_test)))"
      ],
      "execution_count": 13,
      "outputs": [
        {
          "output_type": "stream",
          "name": "stdout",
          "text": [
            "best mean cross-validation score: 0.720\n",
            "best parameters: {'n_neighbors': 11}\n",
            "test-set score: 0.770\n",
            "\n",
            "\n",
            "best mean cross-validation score: 0.786\n",
            "best parameters: {'alpha': 16.700000000000003}\n",
            "test-set score: 0.802\n",
            "\n",
            "\n",
            "best mean cross-validation score: 0.788\n",
            "best parameters: {'alpha': 0.4}\n",
            "test-set score: 0.800\n"
          ]
        }
      ]
    },
    {
      "cell_type": "markdown",
      "metadata": {
        "id": "tLydCrw6pYiZ"
      },
      "source": [
        "For KNN, the test set score is nearly the same without tuning;\n",
        "for Ridge, the test set score(0.802) is a little bit lower than the untuned one(0.807);\n",
        "for Lasso, the test set score(0.800) is little higher than the untuned one(0.786)"
      ]
    },
    {
      "cell_type": "markdown",
      "metadata": {
        "id": "EwNZPbdWpYia"
      },
      "source": [
        "**1.5** Compare the coefficients of your two best linear models (not knn), do they \n",
        "agree on which features are important?"
      ]
    },
    {
      "cell_type": "code",
      "metadata": {
        "colab": {
          "base_uri": "https://localhost:8080/"
        },
        "id": "2WyzO7FfpYib",
        "outputId": "767ae267-d3ac-4597-97b7-d1b0002e4048"
      },
      "source": [
        "print(\"ridge.coef_: {}\".format(ridge1.coef_))\n",
        "print(\"linear.coef_: {}\".format(lr1.coef_))"
      ],
      "execution_count": 14,
      "outputs": [
        {
          "output_type": "stream",
          "name": "stdout",
          "text": [
            "ridge.coef_: [ 0.07269491 -0.92810378 -1.24237127 -9.65603891  0.94468825 -0.08099605\n",
            "  1.15706149 -0.63971526  3.7388452  -3.52255519]\n",
            "linear.coef_: [ 0.99068803 -1.93639614 -1.17333052 -9.77646224  1.04183669 -0.09712146\n",
            "  1.15380605 -0.67884963  3.71960199 -3.4784803 ]\n"
          ]
        }
      ]
    },
    {
      "cell_type": "markdown",
      "metadata": {
        "id": "eLLXII6NpYib"
      },
      "source": [
        "- The coefficients of these two models have some differences in 'enrltot' and 'teachers', but don't have significant difference in the rest variables.\n",
        "- 'mealpct' has the most negtive influence on 'testscr' while 'avginc' has the most possitive impact. "
      ]
    },
    {
      "cell_type": "markdown",
      "metadata": {
        "id": "4T62E-4_pYib"
      },
      "source": [
        "**1.6** Discuss which final model you would choose to predict new data"
      ]
    },
    {
      "cell_type": "markdown",
      "metadata": {
        "id": "JEFuQ3BlpYib"
      },
      "source": [
        "I would choose the ridge regression model with scaled data in default setting. There isn't a big difference between the test score of the two models. But the shrink effect is obvious in ridge model comparing the 'enrltot' and 'teachers' coefficients. So, it is possible there exists multicollinearity in those explanatory varables and ridge model can help overcome this."
      ]
    },
    {
      "cell_type": "markdown",
      "metadata": {
        "id": "PmA5fTQxpYic"
      },
      "source": [
        "## Part 2: Classifcation on red and white wine characteristics"
      ]
    },
    {
      "cell_type": "markdown",
      "metadata": {
        "id": "0xAecAQrpYic"
      },
      "source": [
        "First, import the red and the white wine csv fles into separate pandas dataframes from the following website: https://archive.ics.uci.edu/ml/machine-learning-databases/wine-quality (Note: you need to adjust the argument for read_ csv() from sep='' to sep=';') Add a new column to each data frame called \"winetype\". For the white wine dataset label the values in this column with a 0, indicating white wine. For the red wine dataset, label values with a 1, indicating red wine. Combine both datasets into a single dataframe. The target data (i.e. the dependent variable) is \"winetype\"."
      ]
    },
    {
      "cell_type": "code",
      "metadata": {
        "id": "XlEBacz9pYic"
      },
      "source": [
        "red = pd.read_csv(\"https://archive.ics.uci.edu/ml/machine-learning-databases/wine-quality/winequality-red.csv\", sep=';')\n",
        "white = pd.read_csv(\"https://archive.ics.uci.edu/ml/machine-learning-databases/wine-quality/winequality-white.csv\", sep=';')"
      ],
      "execution_count": 15,
      "outputs": []
    },
    {
      "cell_type": "code",
      "metadata": {
        "id": "vKTBWpQXpYic"
      },
      "source": [
        "# Set new columns for two dataframes\n",
        "red['winetype'] = 1\n",
        "white['winetype'] = 0\n",
        "# Combine both datasets into a single dataframe\n",
        "wine = pd.concat([red, white])"
      ],
      "execution_count": 16,
      "outputs": []
    },
    {
      "cell_type": "code",
      "metadata": {
        "colab": {
          "base_uri": "https://localhost:8080/",
          "height": 221
        },
        "id": "PTva_X2fK9bS",
        "outputId": "9cb50155-8d90-4ea0-e9a6-98d957200f52"
      },
      "source": [
        "wine.head()"
      ],
      "execution_count": 17,
      "outputs": [
        {
          "output_type": "execute_result",
          "data": {
            "text/html": [
              "<div>\n",
              "<style scoped>\n",
              "    .dataframe tbody tr th:only-of-type {\n",
              "        vertical-align: middle;\n",
              "    }\n",
              "\n",
              "    .dataframe tbody tr th {\n",
              "        vertical-align: top;\n",
              "    }\n",
              "\n",
              "    .dataframe thead th {\n",
              "        text-align: right;\n",
              "    }\n",
              "</style>\n",
              "<table border=\"1\" class=\"dataframe\">\n",
              "  <thead>\n",
              "    <tr style=\"text-align: right;\">\n",
              "      <th></th>\n",
              "      <th>fixed acidity</th>\n",
              "      <th>volatile acidity</th>\n",
              "      <th>citric acid</th>\n",
              "      <th>residual sugar</th>\n",
              "      <th>chlorides</th>\n",
              "      <th>free sulfur dioxide</th>\n",
              "      <th>total sulfur dioxide</th>\n",
              "      <th>density</th>\n",
              "      <th>pH</th>\n",
              "      <th>sulphates</th>\n",
              "      <th>alcohol</th>\n",
              "      <th>quality</th>\n",
              "      <th>winetype</th>\n",
              "    </tr>\n",
              "  </thead>\n",
              "  <tbody>\n",
              "    <tr>\n",
              "      <th>0</th>\n",
              "      <td>7.4</td>\n",
              "      <td>0.70</td>\n",
              "      <td>0.00</td>\n",
              "      <td>1.9</td>\n",
              "      <td>0.076</td>\n",
              "      <td>11.0</td>\n",
              "      <td>34.0</td>\n",
              "      <td>0.9978</td>\n",
              "      <td>3.51</td>\n",
              "      <td>0.56</td>\n",
              "      <td>9.4</td>\n",
              "      <td>5</td>\n",
              "      <td>1</td>\n",
              "    </tr>\n",
              "    <tr>\n",
              "      <th>1</th>\n",
              "      <td>7.8</td>\n",
              "      <td>0.88</td>\n",
              "      <td>0.00</td>\n",
              "      <td>2.6</td>\n",
              "      <td>0.098</td>\n",
              "      <td>25.0</td>\n",
              "      <td>67.0</td>\n",
              "      <td>0.9968</td>\n",
              "      <td>3.20</td>\n",
              "      <td>0.68</td>\n",
              "      <td>9.8</td>\n",
              "      <td>5</td>\n",
              "      <td>1</td>\n",
              "    </tr>\n",
              "    <tr>\n",
              "      <th>2</th>\n",
              "      <td>7.8</td>\n",
              "      <td>0.76</td>\n",
              "      <td>0.04</td>\n",
              "      <td>2.3</td>\n",
              "      <td>0.092</td>\n",
              "      <td>15.0</td>\n",
              "      <td>54.0</td>\n",
              "      <td>0.9970</td>\n",
              "      <td>3.26</td>\n",
              "      <td>0.65</td>\n",
              "      <td>9.8</td>\n",
              "      <td>5</td>\n",
              "      <td>1</td>\n",
              "    </tr>\n",
              "    <tr>\n",
              "      <th>3</th>\n",
              "      <td>11.2</td>\n",
              "      <td>0.28</td>\n",
              "      <td>0.56</td>\n",
              "      <td>1.9</td>\n",
              "      <td>0.075</td>\n",
              "      <td>17.0</td>\n",
              "      <td>60.0</td>\n",
              "      <td>0.9980</td>\n",
              "      <td>3.16</td>\n",
              "      <td>0.58</td>\n",
              "      <td>9.8</td>\n",
              "      <td>6</td>\n",
              "      <td>1</td>\n",
              "    </tr>\n",
              "    <tr>\n",
              "      <th>4</th>\n",
              "      <td>7.4</td>\n",
              "      <td>0.70</td>\n",
              "      <td>0.00</td>\n",
              "      <td>1.9</td>\n",
              "      <td>0.076</td>\n",
              "      <td>11.0</td>\n",
              "      <td>34.0</td>\n",
              "      <td>0.9978</td>\n",
              "      <td>3.51</td>\n",
              "      <td>0.56</td>\n",
              "      <td>9.4</td>\n",
              "      <td>5</td>\n",
              "      <td>1</td>\n",
              "    </tr>\n",
              "  </tbody>\n",
              "</table>\n",
              "</div>"
            ],
            "text/plain": [
              "   fixed acidity  volatile acidity  citric acid  ...  alcohol  quality  winetype\n",
              "0            7.4              0.70         0.00  ...      9.4        5         1\n",
              "1            7.8              0.88         0.00  ...      9.8        5         1\n",
              "2            7.8              0.76         0.04  ...      9.8        5         1\n",
              "3           11.2              0.28         0.56  ...      9.8        6         1\n",
              "4            7.4              0.70         0.00  ...      9.4        5         1\n",
              "\n",
              "[5 rows x 13 columns]"
            ]
          },
          "metadata": {},
          "execution_count": 17
        }
      ]
    },
    {
      "cell_type": "markdown",
      "metadata": {
        "id": "WgScicwxpYid"
      },
      "source": [
        "**2.1** Visualize the univariate distribution of the target feature and each of the three explanatory variables that you think are likely to have a relationship with the target feature."
      ]
    },
    {
      "cell_type": "code",
      "metadata": {
        "colab": {
          "base_uri": "https://localhost:8080/",
          "height": 1000
        },
        "id": "JfBy5L8tpYie",
        "outputId": "d19f6026-468e-4e47-e758-e448675eed1f"
      },
      "source": [
        "wine['winetype'].plot.hist()\n",
        "plt.xlabel('Wine Type')\n",
        "plt.ylabel('Count')\n",
        "plt.show()\n",
        "\n",
        "wine['fixed acidity'].value_counts().sort_index().plot.line()\n",
        "plt.show()\n",
        "\n",
        "wine['volatile acidity'].value_counts().sort_index().plot.line()\n",
        "plt.show()\n",
        "\n",
        "wine['chlorides'].value_counts().sort_index().plot.line()\n",
        "plt.show()"
      ],
      "execution_count": 18,
      "outputs": [
        {
          "output_type": "display_data",
          "data": {
            "image/png": "[encoded data removed]",
            "text/plain": [
              "<Figure size 432x288 with 1 Axes>"
            ]
          },
          "metadata": {
            "needs_background": "light"
          }
        },
        {
          "output_type": "display_data",
          "data": {
            "image/png": "[encoded data removed]",
            "text/plain": [
              "<Figure size 432x288 with 1 Axes>"
            ]
          },
          "metadata": {
            "needs_background": "light"
          }
        },
        {
          "output_type": "display_data",
          "data": {
            "image/png": "[encoded data removed]",
            "text/plain": [
              "<Figure size 432x288 with 1 Axes>"
            ]
          },
          "metadata": {
            "needs_background": "light"
          }
        },
        {
          "output_type": "display_data",
          "data": {
            "image/png": "[encoded data removed]",
            "text/plain": [
              "<Figure size 432x288 with 1 Axes>"
            ]
          },
          "metadata": {
            "needs_background": "light"
          }
        }
      ]
    },
    {
      "cell_type": "markdown",
      "metadata": {
        "id": "a933I-MApYie"
      },
      "source": [
        "**2.2** Split data into training and test set. Build models that evaluate the relationship between all available X variables in the dataset and the target variable. Evaluate Logistic Regression, Penalized Logistic Regression, and KNN for classification using cross-validation. How different are the results? How does scaling the data with StandardScaler influence the results?"
      ]
    },
    {
      "cell_type": "code",
      "metadata": {
        "id": "okI7tpszpYif"
      },
      "source": [
        "# Split data into training and test set\n",
        "y = wine['winetype']\n",
        "X = wine.loc[:, wine.columns != 'winetype']\n",
        "X_train, X_test, y_train, y_test = train_test_split(X, y, random_state=42) "
      ],
      "execution_count": 19,
      "outputs": []
    },
    {
      "cell_type": "code",
      "metadata": {
        "colab": {
          "base_uri": "https://localhost:8080/",
          "height": 221
        },
        "id": "lGxJtNYKp_Nw",
        "outputId": "6b3c282d-7527-402f-91d6-16f08bbd8791"
      },
      "source": [
        "X.head()"
      ],
      "execution_count": 20,
      "outputs": [
        {
          "output_type": "execute_result",
          "data": {
            "text/html": [
              "<div>\n",
              "<style scoped>\n",
              "    .dataframe tbody tr th:only-of-type {\n",
              "        vertical-align: middle;\n",
              "    }\n",
              "\n",
              "    .dataframe tbody tr th {\n",
              "        vertical-align: top;\n",
              "    }\n",
              "\n",
              "    .dataframe thead th {\n",
              "        text-align: right;\n",
              "    }\n",
              "</style>\n",
              "<table border=\"1\" class=\"dataframe\">\n",
              "  <thead>\n",
              "    <tr style=\"text-align: right;\">\n",
              "      <th></th>\n",
              "      <th>fixed acidity</th>\n",
              "      <th>volatile acidity</th>\n",
              "      <th>citric acid</th>\n",
              "      <th>residual sugar</th>\n",
              "      <th>chlorides</th>\n",
              "      <th>free sulfur dioxide</th>\n",
              "      <th>total sulfur dioxide</th>\n",
              "      <th>density</th>\n",
              "      <th>pH</th>\n",
              "      <th>sulphates</th>\n",
              "      <th>alcohol</th>\n",
              "      <th>quality</th>\n",
              "    </tr>\n",
              "  </thead>\n",
              "  <tbody>\n",
              "    <tr>\n",
              "      <th>0</th>\n",
              "      <td>7.4</td>\n",
              "      <td>0.70</td>\n",
              "      <td>0.00</td>\n",
              "      <td>1.9</td>\n",
              "      <td>0.076</td>\n",
              "      <td>11.0</td>\n",
              "      <td>34.0</td>\n",
              "      <td>0.9978</td>\n",
              "      <td>3.51</td>\n",
              "      <td>0.56</td>\n",
              "      <td>9.4</td>\n",
              "      <td>5</td>\n",
              "    </tr>\n",
              "    <tr>\n",
              "      <th>1</th>\n",
              "      <td>7.8</td>\n",
              "      <td>0.88</td>\n",
              "      <td>0.00</td>\n",
              "      <td>2.6</td>\n",
              "      <td>0.098</td>\n",
              "      <td>25.0</td>\n",
              "      <td>67.0</td>\n",
              "      <td>0.9968</td>\n",
              "      <td>3.20</td>\n",
              "      <td>0.68</td>\n",
              "      <td>9.8</td>\n",
              "      <td>5</td>\n",
              "    </tr>\n",
              "    <tr>\n",
              "      <th>2</th>\n",
              "      <td>7.8</td>\n",
              "      <td>0.76</td>\n",
              "      <td>0.04</td>\n",
              "      <td>2.3</td>\n",
              "      <td>0.092</td>\n",
              "      <td>15.0</td>\n",
              "      <td>54.0</td>\n",
              "      <td>0.9970</td>\n",
              "      <td>3.26</td>\n",
              "      <td>0.65</td>\n",
              "      <td>9.8</td>\n",
              "      <td>5</td>\n",
              "    </tr>\n",
              "    <tr>\n",
              "      <th>3</th>\n",
              "      <td>11.2</td>\n",
              "      <td>0.28</td>\n",
              "      <td>0.56</td>\n",
              "      <td>1.9</td>\n",
              "      <td>0.075</td>\n",
              "      <td>17.0</td>\n",
              "      <td>60.0</td>\n",
              "      <td>0.9980</td>\n",
              "      <td>3.16</td>\n",
              "      <td>0.58</td>\n",
              "      <td>9.8</td>\n",
              "      <td>6</td>\n",
              "    </tr>\n",
              "    <tr>\n",
              "      <th>4</th>\n",
              "      <td>7.4</td>\n",
              "      <td>0.70</td>\n",
              "      <td>0.00</td>\n",
              "      <td>1.9</td>\n",
              "      <td>0.076</td>\n",
              "      <td>11.0</td>\n",
              "      <td>34.0</td>\n",
              "      <td>0.9978</td>\n",
              "      <td>3.51</td>\n",
              "      <td>0.56</td>\n",
              "      <td>9.4</td>\n",
              "      <td>5</td>\n",
              "    </tr>\n",
              "  </tbody>\n",
              "</table>\n",
              "</div>"
            ],
            "text/plain": [
              "   fixed acidity  volatile acidity  citric acid  ...  sulphates  alcohol  quality\n",
              "0            7.4              0.70         0.00  ...       0.56      9.4        5\n",
              "1            7.8              0.88         0.00  ...       0.68      9.8        5\n",
              "2            7.8              0.76         0.04  ...       0.65      9.8        5\n",
              "3           11.2              0.28         0.56  ...       0.58      9.8        6\n",
              "4            7.4              0.70         0.00  ...       0.56      9.4        5\n",
              "\n",
              "[5 rows x 12 columns]"
            ]
          },
          "metadata": {},
          "execution_count": 20
        }
      ]
    },
    {
      "cell_type": "code",
      "metadata": {
        "id": "VEckMQjI4HNs"
      },
      "source": [
        "# Process Data\n",
        "from sklearn.compose import ColumnTransformer\n",
        "from sklearn.pipeline import Pipeline\n",
        "from sklearn.impute import SimpleImputer\n",
        "from sklearn.preprocessing import StandardScaler, OneHotEncoder\n",
        "\n",
        "numeric_features = ['fixed acidity', 'volatile acidity', 'citric acid','residual sugar','chlorides','free sulfur dioxide','total sulfur dioxide', 'density','pH','sulphates','alcohol','quality']\n",
        "numeric_transformer = Pipeline(steps=[\n",
        "    ('scaler', StandardScaler())])\n",
        "\n",
        "preprocess = ColumnTransformer(\n",
        "    transformers=[\n",
        "        ('num', numeric_transformer, numeric_features)])\n",
        "\n",
        "preprocess = preprocess.fit(X_train)\n",
        "\n",
        "def preprocessor(data):\n",
        "    preprocessed_data=preprocess.transform(data)\n",
        "    return preprocessed_data"
      ],
      "execution_count": 21,
      "outputs": []
    },
    {
      "cell_type": "code",
      "metadata": {
        "colab": {
          "base_uri": "https://localhost:8080/"
        },
        "id": "FZWE5xMVpYif",
        "outputId": "34aa7b55-f3c8-4c1a-d01e-825a40ebf801"
      },
      "source": [
        "from sklearn.linear_model import LogisticRegression\n",
        "\n",
        "# Logistic Regression with unscaled data\n",
        "model = LogisticRegression(penalty='none', max_iter=10000).fit(X_train, y_train)\n",
        "print(\"Train score:{:.3f}\".format(\n",
        "mean(cross_val_score(LogisticRegression(penalty='none', max_iter=10000), X_train, y_train))))\n",
        "print(\"Test score: {:.3f}\".format(model.score(X_test, y_test)))\n",
        "\n",
        "# Logistic Regression with scaled data\n",
        "model1 = LogisticRegression(penalty='none', max_iter=10000).fit(preprocessor(X_train), y_train)\n",
        "print('\\n')\n",
        "print(\"Train score:{:.3f}\".format(\n",
        "mean(cross_val_score(LogisticRegression(penalty='none', max_iter=10000), preprocessor(X_train), y_train))))\n",
        "print(\"Test score:{:.3f}\".format(model1.score(preprocessor(X_test), y_test)))"
      ],
      "execution_count": 22,
      "outputs": [
        {
          "output_type": "stream",
          "name": "stdout",
          "text": [
            "Train score:0.992\n",
            "Test score: 0.986\n",
            "\n",
            "\n",
            "Train score:0.994\n",
            "Test score:0.991\n"
          ]
        }
      ]
    },
    {
      "cell_type": "markdown",
      "metadata": {
        "id": "SW2jq1q2tukF"
      },
      "source": [
        "The score with scaled data in logistic regression with no penalty is a little bit higher than the unscaled one."
      ]
    },
    {
      "cell_type": "code",
      "metadata": {
        "colab": {
          "base_uri": "https://localhost:8080/"
        },
        "id": "xJUAzcMepYif",
        "outputId": "2c5e61e0-bf6a-41a5-dfd9-e801a3019c04"
      },
      "source": [
        "# Penalized Logistic Regression with unscaled data\n",
        "pl = LogisticRegression(penalty = 'l2', max_iter=10000).fit(X_train, y_train)\n",
        "print(\"Train score:{:.3f}\".format(\n",
        "mean(cross_val_score(LogisticRegression(penalty = 'l2', max_iter=10000), X_train, y_train))))\n",
        "print(\"Test score: {:.3f}\".format(pl.score(X_test, y_test)))\n",
        "# Penalized Logistic Regression with scaled data\n",
        "pl1 = LogisticRegression(penalty = 'l2', max_iter=10000).fit(preprocessor(X_train), y_train)\n",
        "print('\\n')\n",
        "print(\"Train score:{:.3f}\".format(\n",
        "mean(cross_val_score(LogisticRegression(penalty = 'l2', max_iter=10000), preprocessor(X_train), y_train))))\n",
        "print(\"Test score:{:.5f}\".format(pl1.score(preprocessor(X_test), y_test)))"
      ],
      "execution_count": 24,
      "outputs": [
        {
          "output_type": "stream",
          "name": "stdout",
          "text": [
            "Train score:0.986\n",
            "Test score: 0.982\n",
            "\n",
            "\n",
            "Train score:0.994\n",
            "Test score:0.99015\n"
          ]
        }
      ]
    },
    {
      "cell_type": "markdown",
      "metadata": {
        "id": "cEIcFEzMuHtf"
      },
      "source": [
        "The score with scaled data is a little bit higher than the unscaled one in penalized logistic regression."
      ]
    },
    {
      "cell_type": "code",
      "metadata": {
        "colab": {
          "base_uri": "https://localhost:8080/"
        },
        "id": "wk6h-jcHu23n",
        "outputId": "34e6c753-0aff-4392-912b-edfc0d7c4931"
      },
      "source": [
        "from sklearn.neighbors import KNeighborsClassifier\n",
        "# KNN with unscaled data\n",
        "knn = KNeighborsClassifier()\n",
        "knn.fit(X_train, y_train)\n",
        "print(\"Train score:{:.3f}\".format(\n",
        "mean(cross_val_score(KNeighborsClassifier(), X_train, y_train))))\n",
        "print(\"Test score:{:.3f}\".format(knn.score(X_test, y_test)))\n",
        "\n",
        "# KNN with scaled data\n",
        "knn.fit(preprocessor(X_train), y_train)\n",
        "print('\\n')\n",
        "print(\"Train score:{:.3f}\".format(\n",
        "mean(cross_val_score(KNeighborsClassifier(), preprocessor(X_train), y_train))))\n",
        "print(\"Test score:{:.3f}\".format(knn.score(preprocessor(X_test), y_test)))"
      ],
      "execution_count": 25,
      "outputs": [
        {
          "output_type": "stream",
          "name": "stdout",
          "text": [
            "Train score:0.943\n",
            "Test score:0.938\n",
            "\n",
            "\n",
            "Train score:0.992\n",
            "Test score:0.989\n"
          ]
        }
      ]
    },
    {
      "cell_type": "markdown",
      "metadata": {
        "id": "4aW-nyhpvtud"
      },
      "source": [
        "- The score with scaled data is higher than the unscaled one in KNN. And the improvement is more obvious than logistic regression and penalized logistic regression\n",
        "- The three models all perform well with scaled data "
      ]
    },
    {
      "cell_type": "markdown",
      "metadata": {
        "id": "Oa9cBhElCaxf"
      },
      "source": [
        "**2.3** Tune the parameters where possible using GridSearchCV. Do the results\n",
        "improve?"
      ]
    },
    {
      "cell_type": "code",
      "metadata": {
        "colab": {
          "base_uri": "https://localhost:8080/"
        },
        "id": "LbGnmqTEao9g",
        "outputId": "06c89f2a-0645-4d08-f264-c875ff8814ba"
      },
      "source": [
        "from sklearn.model_selection import GridSearchCV\n",
        "# Penalized logistic model with GridSearchCV\n",
        "param_grid = {'C': np.arange(.01, 10, .1),'penalty':['l2']}\n",
        "gridmodel = GridSearchCV(LogisticRegression(solver ='newton-cg'), param_grid=param_grid, cv=5)\n",
        "gridmodel.fit(preprocessor(X_train), y_train)\n",
        "print(\"best mean cross-validation score: {:.3f}\".format(gridmodel.best_score_))\n",
        "print(\"best parameters: {}\".format(gridmodel.best_params_))\n",
        "print(\"test-set score: {:.5f}\".format(gridmodel.score(preprocessor(X_test), y_test)))\n",
        "# KNN with GridSearchCV\n",
        "param_grid1 = {'n_neighbors': np.arange(1, 15, 2)}\n",
        "grid = GridSearchCV(KNeighborsClassifier(), param_grid=param_grid1, cv=5)\n",
        "grid.fit(preprocessor(X_train), y_train)\n",
        "print('\\n')\n",
        "print(\"best mean cross-validation score: {:.3f}\".format(grid.best_score_))\n",
        "print(\"best parameters: {}\".format(grid.best_params_))\n",
        "print(\"test-set score: {:.5f}\".format(grid.score(preprocessor(X_test), y_test)))"
      ],
      "execution_count": 26,
      "outputs": [
        {
          "output_type": "stream",
          "name": "stdout",
          "text": [
            "best mean cross-validation score: 0.994\n",
            "best parameters: {'C': 3.51, 'penalty': 'l2'}\n",
            "test-set score: 0.99077\n",
            "\n",
            "\n",
            "best mean cross-validation score: 0.994\n",
            "best parameters: {'n_neighbors': 1}\n",
            "test-set score: 0.99077\n"
          ]
        }
      ]
    },
    {
      "cell_type": "markdown",
      "metadata": {
        "id": "X8zHL9KpbIoZ"
      },
      "source": [
        "For penalized logistic regression and KNN, the test-set score both becomes a little better."
      ]
    },
    {
      "cell_type": "markdown",
      "metadata": {
        "id": "jl5k_aPx7xag"
      },
      "source": [
        "**2.4** Change the cross-validation strategy in GridSearchCV from ‘stratified k-fold’ to ‘kfold’ with shuffling. Do the parameters for models that can be tuned change? Do they change if you change the random seed of the shuffling? Or if you change the random state of the split into training and test data?"
      ]
    },
    {
      "cell_type": "code",
      "metadata": {
        "colab": {
          "base_uri": "https://localhost:8080/"
        },
        "id": "wirvuFxS785r",
        "outputId": "044fca32-cc2a-402d-f922-605f303d66d7"
      },
      "source": [
        "from sklearn.model_selection import RepeatedKFold\n",
        "from sklearn.model_selection import StratifiedKFold\n",
        "from sklearn.model_selection import KFold\n",
        "\n",
        "kfold = KFold(n_splits=5, shuffle=True)\n",
        "skfold = StratifiedKFold(n_splits=5, shuffle=True)\n",
        "\n",
        "# Penalized logistic model with GridSearchCV\n",
        "param_grid = {'C': np.arange(.1, 10, .1),'penalty':['l2']}\n",
        "gridmodel = GridSearchCV(LogisticRegression(solver ='newton-cg'), param_grid=param_grid, cv=kfold)\n",
        "gridmodel1 = GridSearchCV(LogisticRegression(solver ='newton-cg'), param_grid=param_grid, cv=skfold)\n",
        "gridmodel.fit(preprocessor(X_train), y_train)\n",
        "gridmodel1.fit(preprocessor(X_train), y_train)\n",
        "print(\"best mean cross-validation score: {:.3f}\".format(gridmodel.best_score_))\n",
        "print(\"best parameters: {}\".format(gridmodel.best_params_))\n",
        "print(\"test-set score: {:.5f}\".format(gridmodel.score(preprocessor(X_test), y_test)))\n",
        "print('\\n')\n",
        "print(\"best mean cross-validation score: {:.3f}\".format(gridmodel1.best_score_))\n",
        "print(\"best parameters: {}\".format(gridmodel1.best_params_))\n",
        "print(\"test-set score: {:.5f}\".format(gridmodel1.score(preprocessor(X_test), y_test)))\n",
        "# KNN with GridSearchCV\n",
        "param_grid1 = {'n_neighbors': np.arange(1, 15, 2)}\n",
        "grid = GridSearchCV(KNeighborsClassifier(), param_grid=param_grid1, cv=kfold)\n",
        "grid1 = GridSearchCV(KNeighborsClassifier(), param_grid=param_grid1, cv=skfold)\n",
        "grid.fit(preprocessor(X_train), y_train)\n",
        "grid1.fit(preprocessor(X_train), y_train)\n",
        "print('\\n')\n",
        "print(\"best mean cross-validation score: {:.3f}\".format(grid.best_score_))\n",
        "print(\"best parameters: {}\".format(grid.best_params_))\n",
        "print(\"test-set score: {:.5f}\".format(grid.score(preprocessor(X_test), y_test)))\n",
        "print('\\n')\n",
        "print(\"best mean cross-validation score: {:.3f}\".format(grid1.best_score_))\n",
        "print(\"best parameters: {}\".format(grid1.best_params_))\n",
        "print(\"test-set score: {:.5f}\".format(grid1.score(preprocessor(X_test), y_test)))"
      ],
      "execution_count": 27,
      "outputs": [
        {
          "output_type": "stream",
          "name": "stdout",
          "text": [
            "best mean cross-validation score: 0.994\n",
            "best parameters: {'C': 4.9, 'penalty': 'l2'}\n",
            "test-set score: 0.99077\n",
            "\n",
            "\n",
            "best mean cross-validation score: 0.994\n",
            "best parameters: {'C': 1.1, 'penalty': 'l2'}\n",
            "test-set score: 0.99015\n",
            "\n",
            "\n",
            "best mean cross-validation score: 0.994\n",
            "best parameters: {'n_neighbors': 9}\n",
            "test-set score: 0.98954\n",
            "\n",
            "\n",
            "best mean cross-validation score: 0.994\n",
            "best parameters: {'n_neighbors': 5}\n",
            "test-set score: 0.98892\n"
          ]
        }
      ]
    },
    {
      "cell_type": "markdown",
      "metadata": {
        "id": "IhoH0j5sHx6d"
      },
      "source": [
        "- From kfold to skfold, the result can be different\n",
        "- For penalized logisstic model, kfold performs better than skfold; for KNN, skfold performs better than kfold"
      ]
    },
    {
      "cell_type": "code",
      "metadata": {
        "colab": {
          "base_uri": "https://localhost:8080/"
        },
        "id": "POeG8rnCDXyd",
        "outputId": "e1ebdc7a-572f-4ec1-d0b5-41c62e13783a"
      },
      "source": [
        "# Change the random seed of the shuffling\n",
        "kfold1 = KFold(n_splits=5, shuffle=True, random_state=42)\n",
        "skfold1 = StratifiedKFold(n_splits=5, shuffle=True, random_state=42)\n",
        "# Penalized logistic model with GridSearchCV\n",
        "param_grid2 = {'C': np.arange(.1, 10, .1),'penalty':['l2']}\n",
        "model2 = GridSearchCV(LogisticRegression(solver ='newton-cg'), param_grid=param_grid2, cv=kfold1)\n",
        "model3 = GridSearchCV(LogisticRegression(solver ='newton-cg'), param_grid=param_grid2, cv=skfold1)\n",
        "model2.fit(preprocessor(X_train), y_train)\n",
        "model3.fit(preprocessor(X_train), y_train)\n",
        "print(\"best mean cross-validation score: {:.3f}\".format(model2.best_score_))\n",
        "print(\"best parameters: {}\".format(model2.best_params_))\n",
        "print(\"test-set score: {:.5f}\".format(model2.score(preprocessor(X_test), y_test)))\n",
        "print('\\n')\n",
        "print(\"best mean cross-validation score: {:.3f}\".format(model3.best_score_))\n",
        "print(\"best parameters: {}\".format(model3.best_params_))\n",
        "print(\"test-set score: {:.5f}\".format(model3.score(preprocessor(X_test), y_test)))\n",
        "# KNN with GridSearchCV\n",
        "param_grid3 = {'n_neighbors': np.arange(1, 15, 2)}\n",
        "model4 = GridSearchCV(KNeighborsClassifier(), param_grid=param_grid3, cv=kfold1)\n",
        "model5 = GridSearchCV(KNeighborsClassifier(), param_grid=param_grid3, cv=skfold1)\n",
        "model4.fit(preprocessor(X_train), y_train)\n",
        "model5.fit(preprocessor(X_train), y_train)\n",
        "print('\\n')\n",
        "print(\"best mean cross-validation score: {:.3f}\".format(model4.best_score_))\n",
        "print(\"best parameters: {}\".format(model4.best_params_))\n",
        "print(\"test-set score: {:.5f}\".format(model4.score(preprocessor(X_test), y_test)))\n",
        "print('\\n')\n",
        "print(\"best mean cross-validation score: {:.3f}\".format(model5.best_score_))\n",
        "print(\"best parameters: {}\".format(model5.best_params_))\n",
        "print(\"test-set score: {:.5f}\".format(model5.score(preprocessor(X_test), y_test)))"
      ],
      "execution_count": 28,
      "outputs": [
        {
          "output_type": "stream",
          "name": "stdout",
          "text": [
            "best mean cross-validation score: 0.994\n",
            "best parameters: {'C': 6.3, 'penalty': 'l2'}\n",
            "test-set score: 0.99138\n",
            "\n",
            "\n",
            "best mean cross-validation score: 0.994\n",
            "best parameters: {'C': 1.2000000000000002, 'penalty': 'l2'}\n",
            "test-set score: 0.99077\n",
            "\n",
            "\n",
            "best mean cross-validation score: 0.994\n",
            "best parameters: {'n_neighbors': 5}\n",
            "test-set score: 0.98892\n",
            "\n",
            "\n",
            "best mean cross-validation score: 0.994\n",
            "best parameters: {'n_neighbors': 9}\n",
            "test-set score: 0.98954\n"
          ]
        }
      ]
    },
    {
      "cell_type": "markdown",
      "metadata": {
        "id": "X5MK8yImIE4G"
      },
      "source": [
        "Through changing the random seed of the shuffling, the result can be different."
      ]
    },
    {
      "cell_type": "code",
      "metadata": {
        "colab": {
          "base_uri": "https://localhost:8080/"
        },
        "id": "aXRLTxFQF7Bd",
        "outputId": "9c92f460-3565-494d-983d-b8cf9f148f27"
      },
      "source": [
        "# Change the random state of the split into training and test data\n",
        "X1_train, X1_test, y1_train, y1_test = train_test_split(X, y, random_state=15) \n",
        "kfold1 = KFold(n_splits=5, shuffle=True, random_state=42)\n",
        "skfold1 = StratifiedKFold(n_splits=5, shuffle=True, random_state=42)\n",
        "# Penalized logistic model with GridSearchCV\n",
        "param_grid2 = {'C': np.arange(.1, 10, .1),'penalty':['l2']}\n",
        "model6 = GridSearchCV(LogisticRegression(solver ='newton-cg'), param_grid=param_grid2, cv=kfold1)\n",
        "model7 = GridSearchCV(LogisticRegression(solver ='newton-cg'), param_grid=param_grid2, cv=skfold1)\n",
        "model6.fit(preprocessor(X1_train), y1_train)\n",
        "model7.fit(preprocessor(X1_train), y1_train)\n",
        "print(\"best mean cross-validation score: {:.3f}\".format(model6.best_score_))\n",
        "print(\"best parameters: {}\".format(model6.best_params_))\n",
        "print(\"test-set score: {:.5f}\".format(model6.score(preprocessor(X1_test), y1_test)))\n",
        "print('\\n')\n",
        "print(\"best mean cross-validation score: {:.3f}\".format(model7.best_score_))\n",
        "print(\"best parameters: {}\".format(model7.best_params_))\n",
        "print(\"test-set score: {:.5f}\".format(model7.score(preprocessor(X1_test), y1_test)))\n",
        "# KNN with GridSearchCV\n",
        "param_grid3 = {'n_neighbors': np.arange(1, 15, 2)}\n",
        "model8 = GridSearchCV(KNeighborsClassifier(), param_grid=param_grid3, cv=kfold1)\n",
        "model9 = GridSearchCV(KNeighborsClassifier(), param_grid=param_grid3, cv=skfold1)\n",
        "model8.fit(preprocessor(X1_train), y1_train)\n",
        "model9.fit(preprocessor(X1_train), y1_train)\n",
        "print('\\n')\n",
        "print(\"best mean cross-validation score: {:.3f}\".format(model8.best_score_))\n",
        "print(\"best parameters: {}\".format(model9.best_params_))\n",
        "print(\"test-set score: {:.5f}\".format(model8.score(preprocessor(X1_test), y1_test)))\n",
        "print('\\n')\n",
        "print(\"best mean cross-validation score: {:.3f}\".format(model9.best_score_))\n",
        "print(\"best parameters: {}\".format(model9.best_params_))\n",
        "print(\"test-set score: {:.5f}\".format(model9.score(preprocessor(X1_test), y1_test)))"
      ],
      "execution_count": 32,
      "outputs": [
        {
          "output_type": "stream",
          "name": "stdout",
          "text": [
            "best mean cross-validation score: 0.994\n",
            "best parameters: {'C': 0.6, 'penalty': 'l2'}\n",
            "test-set score: 0.99200\n",
            "\n",
            "\n",
            "best mean cross-validation score: 0.994\n",
            "best parameters: {'C': 0.8, 'penalty': 'l2'}\n",
            "test-set score: 0.99323\n",
            "\n",
            "\n",
            "best mean cross-validation score: 0.993\n",
            "best parameters: {'n_neighbors': 1}\n",
            "test-set score: 0.99200\n",
            "\n",
            "\n",
            "best mean cross-validation score: 0.993\n",
            "best parameters: {'n_neighbors': 1}\n",
            "test-set score: 0.99385\n"
          ]
        }
      ]
    },
    {
      "cell_type": "markdown",
      "metadata": {
        "id": "vXEoX_VfIVAl"
      },
      "source": [
        "By changing the random state of the split into training and test data, the results become better here."
      ]
    },
    {
      "cell_type": "markdown",
      "metadata": {
        "id": "nVMl217lemar"
      },
      "source": [
        "**2.5** Compare the coefficients of your two best logistic regression models (not knn), do they agree on which features are important?"
      ]
    },
    {
      "cell_type": "code",
      "metadata": {
        "colab": {
          "base_uri": "https://localhost:8080/"
        },
        "id": "OJogahFFfBkT",
        "outputId": "f9d5636e-38cc-4711-80b8-2ad7c0ce0f59"
      },
      "source": [
        "print(\"LogisticRegression.coef_: {}\".format(model1.coef_))\n",
        "# Use the GridSearchCV result acquired in 2.4\n",
        "pl2 = LogisticRegression(C=6.3, penalty = 'l2', max_iter=10000).fit(preprocessor(X_train), y_train)\n",
        "print(\"PenalizedLogisticRegression.coef_: {}\".format(pl2.coef_))"
      ],
      "execution_count": 34,
      "outputs": [
        {
          "output_type": "stream",
          "name": "stdout",
          "text": [
            "LogisticRegression.coef_: [[ 0.23593592  1.58974487 -0.28658209 -4.93808655  0.79248033  1.29840838\n",
            "  -3.18179794  4.53207344  0.0204608   0.62839167  1.51230794  0.34655891]]\n",
            "PenalizedLogisticRegression.coef_: [[ 0.36756793  1.58110405 -0.28390972 -4.47945942  0.81332624  1.19450871\n",
            "  -3.09652535  4.10144516  0.13925589  0.66051118  1.32226698  0.32522912]]\n"
          ]
        }
      ]
    },
    {
      "cell_type": "markdown",
      "metadata": {
        "id": "-krt1RJ0hK6m"
      },
      "source": [
        "- The coefficients of the two models don't have much difference except for the variable 'pH'.\n",
        "- 'density' has the most positive influence on 'winetype' while 'residual sugar' has the most negtive impact. "
      ]
    },
    {
      "cell_type": "markdown",
      "metadata": {
        "id": "191acztLhBzp"
      },
      "source": [
        "**2.6** Discuss which final model you would choose to predict new data"
      ]
    },
    {
      "cell_type": "markdown",
      "metadata": {
        "id": "bhn7m9iIhl-2"
      },
      "source": [
        "The final model I want to use is the logistic regression model with C = 6.3, penalty = 'l2' with scaled data. This model has a relatively high score and at the same time can help shrink the variable coefficients which may exist multicollinearity."
      ]
    }
  ]
}