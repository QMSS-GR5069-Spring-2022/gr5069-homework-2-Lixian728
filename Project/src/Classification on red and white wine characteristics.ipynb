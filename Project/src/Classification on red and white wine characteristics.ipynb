{
 "cells": [
  {
   "cell_type": "code",
   "execution_count": 1,
   "metadata": {
    "id": "9pk47CcspYiJ"
   },
   "outputs": [],
   "source": [
    "#Import Python Libraries\n",
    "import numpy as np\n",
    "import scipy as sp\n",
    "import pandas as pd\n",
    "import matplotlib as mpl\n",
    "import matplotlib.pyplot as plt\n",
    "import seaborn as sns"
   ]
  },
  {
   "cell_type": "markdown",
   "metadata": {
    "id": "PmA5fTQxpYic"
   },
   "source": [
    "## Part 2: Classifcation on red and white wine characteristics"
   ]
  },
  {
   "cell_type": "markdown",
   "metadata": {
    "id": "0xAecAQrpYic"
   },
   "source": [
    "First, import the red and the white wine csv fles into separate pandas dataframes from the following website: https://archive.ics.uci.edu/ml/machine-learning-databases/wine-quality (Note: you need to adjust the argument for read_ csv() from sep='' to sep=';') Add a new column to each data frame called \"winetype\". For the white wine dataset label the values in this column with a 0, indicating white wine. For the red wine dataset, label values with a 1, indicating red wine. Combine both datasets into a single dataframe. The target data (i.e. the dependent variable) is \"winetype\"."
   ]
  },
  {
   "cell_type": "code",
   "execution_count": 15,
   "metadata": {
    "id": "XlEBacz9pYic"
   },
   "outputs": [],
   "source": [
    "red = pd.read_csv(\"https://archive.ics.uci.edu/ml/machine-learning-databases/wine-quality/winequality-red.csv\", sep=';')\n",
    "white = pd.read_csv(\"https://archive.ics.uci.edu/ml/machine-learning-databases/wine-quality/winequality-white.csv\", sep=';')"
   ]
  },
  {
   "cell_type": "code",
   "execution_count": 16,
   "metadata": {
    "id": "vKTBWpQXpYic"
   },
   "outputs": [],
   "source": [
    "# Set new columns for two dataframes\n",
    "red['winetype'] = 1\n",
    "white['winetype'] = 0\n",
    "\n",
    "# Combine both datasets into a single dataframe\n",
    "wine = pd.concat([red, white])"
   ]
  },
  {
   "cell_type": "code",
   "execution_count": 17,
   "metadata": {
    "colab": {
     "base_uri": "https://localhost:8080/",
     "height": 221
    },
    "id": "PTva_X2fK9bS",
    "outputId": "9cb50155-8d90-4ea0-e9a6-98d957200f52"
   },
   "outputs": [
    {
     "data": {
      "text/html": [
       "<div>\n",
       "<style scoped>\n",
       "    .dataframe tbody tr th:only-of-type {\n",
       "        vertical-align: middle;\n",
       "    }\n",
       "\n",
       "    .dataframe tbody tr th {\n",
       "        vertical-align: top;\n",
       "    }\n",
       "\n",
       "    .dataframe thead th {\n",
       "        text-align: right;\n",
       "    }\n",
       "</style>\n",
       "<table border=\"1\" class=\"dataframe\">\n",
       "  <thead>\n",
       "    <tr style=\"text-align: right;\">\n",
       "      <th></th>\n",
       "      <th>fixed acidity</th>\n",
       "      <th>volatile acidity</th>\n",
       "      <th>citric acid</th>\n",
       "      <th>residual sugar</th>\n",
       "      <th>chlorides</th>\n",
       "      <th>free sulfur dioxide</th>\n",
       "      <th>total sulfur dioxide</th>\n",
       "      <th>density</th>\n",
       "      <th>pH</th>\n",
       "      <th>sulphates</th>\n",
       "      <th>alcohol</th>\n",
       "      <th>quality</th>\n",
       "      <th>winetype</th>\n",
       "    </tr>\n",
       "  </thead>\n",
       "  <tbody>\n",
       "    <tr>\n",
       "      <th>0</th>\n",
       "      <td>7.4</td>\n",
       "      <td>0.70</td>\n",
       "      <td>0.00</td>\n",
       "      <td>1.9</td>\n",
       "      <td>0.076</td>\n",
       "      <td>11.0</td>\n",
       "      <td>34.0</td>\n",
       "      <td>0.9978</td>\n",
       "      <td>3.51</td>\n",
       "      <td>0.56</td>\n",
       "      <td>9.4</td>\n",
       "      <td>5</td>\n",
       "      <td>1</td>\n",
       "    </tr>\n",
       "    <tr>\n",
       "      <th>1</th>\n",
       "      <td>7.8</td>\n",
       "      <td>0.88</td>\n",
       "      <td>0.00</td>\n",
       "      <td>2.6</td>\n",
       "      <td>0.098</td>\n",
       "      <td>25.0</td>\n",
       "      <td>67.0</td>\n",
       "      <td>0.9968</td>\n",
       "      <td>3.20</td>\n",
       "      <td>0.68</td>\n",
       "      <td>9.8</td>\n",
       "      <td>5</td>\n",
       "      <td>1</td>\n",
       "    </tr>\n",
       "    <tr>\n",
       "      <th>2</th>\n",
       "      <td>7.8</td>\n",
       "      <td>0.76</td>\n",
       "      <td>0.04</td>\n",
       "      <td>2.3</td>\n",
       "      <td>0.092</td>\n",
       "      <td>15.0</td>\n",
       "      <td>54.0</td>\n",
       "      <td>0.9970</td>\n",
       "      <td>3.26</td>\n",
       "      <td>0.65</td>\n",
       "      <td>9.8</td>\n",
       "      <td>5</td>\n",
       "      <td>1</td>\n",
       "    </tr>\n",
       "    <tr>\n",
       "      <th>3</th>\n",
       "      <td>11.2</td>\n",
       "      <td>0.28</td>\n",
       "      <td>0.56</td>\n",
       "      <td>1.9</td>\n",
       "      <td>0.075</td>\n",
       "      <td>17.0</td>\n",
       "      <td>60.0</td>\n",
       "      <td>0.9980</td>\n",
       "      <td>3.16</td>\n",
       "      <td>0.58</td>\n",
       "      <td>9.8</td>\n",
       "      <td>6</td>\n",
       "      <td>1</td>\n",
       "    </tr>\n",
       "    <tr>\n",
       "      <th>4</th>\n",
       "      <td>7.4</td>\n",
       "      <td>0.70</td>\n",
       "      <td>0.00</td>\n",
       "      <td>1.9</td>\n",
       "      <td>0.076</td>\n",
       "      <td>11.0</td>\n",
       "      <td>34.0</td>\n",
       "      <td>0.9978</td>\n",
       "      <td>3.51</td>\n",
       "      <td>0.56</td>\n",
       "      <td>9.4</td>\n",
       "      <td>5</td>\n",
       "      <td>1</td>\n",
       "    </tr>\n",
       "  </tbody>\n",
       "</table>\n",
       "</div>"
      ],
      "text/plain": [
       "   fixed acidity  volatile acidity  citric acid  ...  alcohol  quality  winetype\n",
       "0            7.4              0.70         0.00  ...      9.4        5         1\n",
       "1            7.8              0.88         0.00  ...      9.8        5         1\n",
       "2            7.8              0.76         0.04  ...      9.8        5         1\n",
       "3           11.2              0.28         0.56  ...      9.8        6         1\n",
       "4            7.4              0.70         0.00  ...      9.4        5         1\n",
       "\n",
       "[5 rows x 13 columns]"
      ]
     },
     "execution_count": 17,
     "metadata": {},
     "output_type": "execute_result"
    }
   ],
   "source": [
    "wine.head()"
   ]
  },
  {
   "cell_type": "markdown",
   "metadata": {
    "id": "WgScicwxpYid"
   },
   "source": [
    "**2.1** Visualize the univariate distribution of the target feature and each of the three explanatory variables that you think are likely to have a relationship with the target feature."
   ]
  },
  {
   "cell_type": "code",
   "execution_count": 18,
   "metadata": {
    "colab": {
     "base_uri": "https://localhost:8080/",
     "height": 1000
    },
    "id": "JfBy5L8tpYie",
    "outputId": "d19f6026-468e-4e47-e758-e448675eed1f"
   },
   "outputs": [
    {
     "data": {
      "image/png": "[encoded data removed]",
      "text/plain": [
       "<Figure size 432x288 with 1 Axes>"
      ]
     },
     "metadata": {
      "needs_background": "light"
     },
     "output_type": "display_data"
    },
    {
     "data": {
      "image/png": "[encoded data removed]",
      "text/plain": [
       "<Figure size 432x288 with 1 Axes>"
      ]
     },
     "metadata": {
      "needs_background": "light"
     },
     "output_type": "display_data"
    },
    {
     "data": {
      "image/png": "[encoded data removed]",
      "text/plain": [
       "<Figure size 432x288 with 1 Axes>"
      ]
     },
     "metadata": {
      "needs_background": "light"
     },
     "output_type": "display_data"
    },
    {
     "data": {
      "image/png": "[encoded data removed]",
      "text/plain": [
       "<Figure size 432x288 with 1 Axes>"
      ]
     },
     "metadata": {
      "needs_background": "light"
     },
     "output_type": "display_data"
    }
   ],
   "source": [
    "wine['winetype'].plot.hist()\n",
    "plt.xlabel('Wine Type')\n",
    "plt.ylabel('Count')\n",
    "plt.show()\n",
    "\n",
    "wine['fixed acidity'].value_counts().sort_index().plot.line()\n",
    "plt.show()\n",
    "\n",
    "wine['volatile acidity'].value_counts().sort_index().plot.line()\n",
    "plt.show()\n",
    "\n",
    "wine['chlorides'].value_counts().sort_index().plot.line()\n",
    "plt.show()"
   ]
  },
  {
   "cell_type": "markdown",
   "metadata": {
    "id": "a933I-MApYie"
   },
   "source": [
    "**2.2** Split data into training and test set. Build models that evaluate the relationship between all available X variables in the dataset and the target variable. Evaluate Logistic Regression, Penalized Logistic Regression, and KNN for classification using cross-validation. How different are the results? How does scaling the data with StandardScaler influence the results?"
   ]
  },
  {
   "cell_type": "code",
   "execution_count": 19,
   "metadata": {
    "id": "okI7tpszpYif"
   },
   "outputs": [],
   "source": [
    "# Split data into training and test set\n",
    "y = wine['winetype']\n",
    "X = wine.loc[:, wine.columns != 'winetype']\n",
    "X_train, X_test, y_train, y_test = train_test_split(X, y, random_state=42) "
   ]
  },
  {
   "cell_type": "code",
   "execution_count": 20,
   "metadata": {
    "colab": {
     "base_uri": "https://localhost:8080/",
     "height": 221
    },
    "id": "lGxJtNYKp_Nw",
    "outputId": "6b3c282d-7527-402f-91d6-16f08bbd8791"
   },
   "outputs": [
    {
     "data": {
      "text/html": [
       "<div>\n",
       "<style scoped>\n",
       "    .dataframe tbody tr th:only-of-type {\n",
       "        vertical-align: middle;\n",
       "    }\n",
       "\n",
       "    .dataframe tbody tr th {\n",
       "        vertical-align: top;\n",
       "    }\n",
       "\n",
       "    .dataframe thead th {\n",
       "        text-align: right;\n",
       "    }\n",
       "</style>\n",
       "<table border=\"1\" class=\"dataframe\">\n",
       "  <thead>\n",
       "    <tr style=\"text-align: right;\">\n",
       "      <th></th>\n",
       "      <th>fixed acidity</th>\n",
       "      <th>volatile acidity</th>\n",
       "      <th>citric acid</th>\n",
       "      <th>residual sugar</th>\n",
       "      <th>chlorides</th>\n",
       "      <th>free sulfur dioxide</th>\n",
       "      <th>total sulfur dioxide</th>\n",
       "      <th>density</th>\n",
       "      <th>pH</th>\n",
       "      <th>sulphates</th>\n",
       "      <th>alcohol</th>\n",
       "      <th>quality</th>\n",
       "    </tr>\n",
       "  </thead>\n",
       "  <tbody>\n",
       "    <tr>\n",
       "      <th>0</th>\n",
       "      <td>7.4</td>\n",
       "      <td>0.70</td>\n",
       "      <td>0.00</td>\n",
       "      <td>1.9</td>\n",
       "      <td>0.076</td>\n",
       "      <td>11.0</td>\n",
       "      <td>34.0</td>\n",
       "      <td>0.9978</td>\n",
       "      <td>3.51</td>\n",
       "      <td>0.56</td>\n",
       "      <td>9.4</td>\n",
       "      <td>5</td>\n",
       "    </tr>\n",
       "    <tr>\n",
       "      <th>1</th>\n",
       "      <td>7.8</td>\n",
       "      <td>0.88</td>\n",
       "      <td>0.00</td>\n",
       "      <td>2.6</td>\n",
       "      <td>0.098</td>\n",
       "      <td>25.0</td>\n",
       "      <td>67.0</td>\n",
       "      <td>0.9968</td>\n",
       "      <td>3.20</td>\n",
       "      <td>0.68</td>\n",
       "      <td>9.8</td>\n",
       "      <td>5</td>\n",
       "    </tr>\n",
       "    <tr>\n",
       "      <th>2</th>\n",
       "      <td>7.8</td>\n",
       "      <td>0.76</td>\n",
       "      <td>0.04</td>\n",
       "      <td>2.3</td>\n",
       "      <td>0.092</td>\n",
       "      <td>15.0</td>\n",
       "      <td>54.0</td>\n",
       "      <td>0.9970</td>\n",
       "      <td>3.26</td>\n",
       "      <td>0.65</td>\n",
       "      <td>9.8</td>\n",
       "      <td>5</td>\n",
       "    </tr>\n",
       "    <tr>\n",
       "      <th>3</th>\n",
       "      <td>11.2</td>\n",
       "      <td>0.28</td>\n",
       "      <td>0.56</td>\n",
       "      <td>1.9</td>\n",
       "      <td>0.075</td>\n",
       "      <td>17.0</td>\n",
       "      <td>60.0</td>\n",
       "      <td>0.9980</td>\n",
       "      <td>3.16</td>\n",
       "      <td>0.58</td>\n",
       "      <td>9.8</td>\n",
       "      <td>6</td>\n",
       "    </tr>\n",
       "    <tr>\n",
       "      <th>4</th>\n",
       "      <td>7.4</td>\n",
       "      <td>0.70</td>\n",
       "      <td>0.00</td>\n",
       "      <td>1.9</td>\n",
       "      <td>0.076</td>\n",
       "      <td>11.0</td>\n",
       "      <td>34.0</td>\n",
       "      <td>0.9978</td>\n",
       "      <td>3.51</td>\n",
       "      <td>0.56</td>\n",
       "      <td>9.4</td>\n",
       "      <td>5</td>\n",
       "    </tr>\n",
       "  </tbody>\n",
       "</table>\n",
       "</div>"
      ],
      "text/plain": [
       "   fixed acidity  volatile acidity  citric acid  ...  sulphates  alcohol  quality\n",
       "0            7.4              0.70         0.00  ...       0.56      9.4        5\n",
       "1            7.8              0.88         0.00  ...       0.68      9.8        5\n",
       "2            7.8              0.76         0.04  ...       0.65      9.8        5\n",
       "3           11.2              0.28         0.56  ...       0.58      9.8        6\n",
       "4            7.4              0.70         0.00  ...       0.56      9.4        5\n",
       "\n",
       "[5 rows x 12 columns]"
      ]
     },
     "execution_count": 20,
     "metadata": {},
     "output_type": "execute_result"
    }
   ],
   "source": [
    "X.head()"
   ]
  },
  {
   "cell_type": "code",
   "execution_count": 21,
   "metadata": {
    "id": "VEckMQjI4HNs"
   },
   "outputs": [],
   "source": [
    "# Process Data\n",
    "from sklearn.compose import ColumnTransformer\n",
    "from sklearn.pipeline import Pipeline\n",
    "from sklearn.impute import SimpleImputer\n",
    "from sklearn.preprocessing import StandardScaler, OneHotEncoder\n",
    "\n",
    "numeric_features = ['fixed acidity', 'volatile acidity', 'citric acid','residual sugar','chlorides','free sulfur dioxide','total sulfur dioxide', 'density','pH','sulphates','alcohol','quality']\n",
    "numeric_transformer = Pipeline(steps=[\n",
    "    ('scaler', StandardScaler())])\n",
    "\n",
    "preprocess = ColumnTransformer(\n",
    "    transformers=[\n",
    "        ('num', numeric_transformer, numeric_features)])\n",
    "\n",
    "preprocess = preprocess.fit(X_train)\n",
    "\n",
    "def preprocessor(data):\n",
    "    preprocessed_data=preprocess.transform(data)\n",
    "    return preprocessed_data"
   ]
  },
  {
   "cell_type": "code",
   "execution_count": 22,
   "metadata": {
    "colab": {
     "base_uri": "https://localhost:8080/"
    },
    "id": "FZWE5xMVpYif",
    "outputId": "34aa7b55-f3c8-4c1a-d01e-825a40ebf801"
   },
   "outputs": [
    {
     "name": "stdout",
     "output_type": "stream",
     "text": [
      "Train score:0.992\n",
      "Test score: 0.986\n",
      "\n",
      "\n",
      "Train score:0.994\n",
      "Test score:0.991\n"
     ]
    }
   ],
   "source": [
    "from sklearn.linear_model import LogisticRegression\n",
    "\n",
    "# Logistic Regression with unscaled data\n",
    "model = LogisticRegression(penalty='none', max_iter=10000).fit(X_train, y_train)\n",
    "print(\"Train score:{:.3f}\".format(\n",
    "mean(cross_val_score(LogisticRegression(penalty='none', max_iter=10000), X_train, y_train))))\n",
    "print(\"Test score: {:.3f}\".format(model.score(X_test, y_test)))\n",
    "\n",
    "# Logistic Regression with scaled data\n",
    "model1 = LogisticRegression(penalty='none', max_iter=10000).fit(preprocessor(X_train), y_train)\n",
    "print('\\n')\n",
    "print(\"Train score:{:.3f}\".format(\n",
    "mean(cross_val_score(LogisticRegression(penalty='none', max_iter=10000), preprocessor(X_train), y_train))))\n",
    "print(\"Test score:{:.3f}\".format(model1.score(preprocessor(X_test), y_test)))"
   ]
  },
  {
   "cell_type": "markdown",
   "metadata": {
    "id": "SW2jq1q2tukF"
   },
   "source": [
    "The score with scaled data in logistic regression with no penalty is a little bit higher than the unscaled one."
   ]
  },
  {
   "cell_type": "code",
   "execution_count": 24,
   "metadata": {
    "colab": {
     "base_uri": "https://localhost:8080/"
    },
    "id": "xJUAzcMepYif",
    "outputId": "2c5e61e0-bf6a-41a5-dfd9-e801a3019c04"
   },
   "outputs": [
    {
     "name": "stdout",
     "output_type": "stream",
     "text": [
      "Train score:0.986\n",
      "Test score: 0.982\n",
      "\n",
      "\n",
      "Train score:0.994\n",
      "Test score:0.99015\n"
     ]
    }
   ],
   "source": [
    "# Penalized Logistic Regression with unscaled data\n",
    "pl = LogisticRegression(penalty = 'l2', max_iter=10000).fit(X_train, y_train)\n",
    "print(\"Train score:{:.3f}\".format(\n",
    "mean(cross_val_score(LogisticRegression(penalty = 'l2', max_iter=10000), X_train, y_train))))\n",
    "print(\"Test score: {:.3f}\".format(pl.score(X_test, y_test)))\n",
    "\n",
    "# Penalized Logistic Regression with scaled data\n",
    "pl1 = LogisticRegression(penalty = 'l2', max_iter=10000).fit(preprocessor(X_train), y_train)\n",
    "print('\\n')\n",
    "print(\"Train score:{:.3f}\".format(\n",
    "mean(cross_val_score(LogisticRegression(penalty = 'l2', max_iter=10000), preprocessor(X_train), y_train))))\n",
    "print(\"Test score:{:.5f}\".format(pl1.score(preprocessor(X_test), y_test)))"
   ]
  },
  {
   "cell_type": "markdown",
   "metadata": {
    "id": "cEIcFEzMuHtf"
   },
   "source": [
    "The score with scaled data is a little bit higher than the unscaled one in penalized logistic regression."
   ]
  },
  {
   "cell_type": "code",
   "execution_count": 25,
   "metadata": {
    "colab": {
     "base_uri": "https://localhost:8080/"
    },
    "id": "wk6h-jcHu23n",
    "outputId": "34e6c753-0aff-4392-912b-edfc0d7c4931"
   },
   "outputs": [
    {
     "name": "stdout",
     "output_type": "stream",
     "text": [
      "Train score:0.943\n",
      "Test score:0.938\n",
      "\n",
      "\n",
      "Train score:0.992\n",
      "Test score:0.989\n"
     ]
    }
   ],
   "source": [
    "from sklearn.neighbors import KNeighborsClassifier\n",
    "\n",
    "# KNN with unscaled data\n",
    "knn = KNeighborsClassifier()\n",
    "knn.fit(X_train, y_train)\n",
    "print(\"Train score:{:.3f}\".format(\n",
    "mean(cross_val_score(KNeighborsClassifier(), X_train, y_train))))\n",
    "print(\"Test score:{:.3f}\".format(knn.score(X_test, y_test)))\n",
    "\n",
    "# KNN with scaled data\n",
    "knn.fit(preprocessor(X_train), y_train)\n",
    "print('\\n')\n",
    "print(\"Train score:{:.3f}\".format(\n",
    "mean(cross_val_score(KNeighborsClassifier(), preprocessor(X_train), y_train))))\n",
    "print(\"Test score:{:.3f}\".format(knn.score(preprocessor(X_test), y_test)))"
   ]
  },
  {
   "cell_type": "markdown",
   "metadata": {
    "id": "4aW-nyhpvtud"
   },
   "source": [
    "- The score with scaled data is higher than the unscaled one in KNN. And the improvement is more obvious than logistic regression and penalized logistic regression\n",
    "- The three models all perform well with scaled data "
   ]
  },
  {
   "cell_type": "markdown",
   "metadata": {
    "id": "Oa9cBhElCaxf"
   },
   "source": [
    "**2.3** Tune the parameters where possible using GridSearchCV. Do the results\n",
    "improve?"
   ]
  },
  {
   "cell_type": "code",
   "execution_count": 26,
   "metadata": {
    "colab": {
     "base_uri": "https://localhost:8080/"
    },
    "id": "LbGnmqTEao9g",
    "outputId": "06c89f2a-0645-4d08-f264-c875ff8814ba"
   },
   "outputs": [
    {
     "name": "stdout",
     "output_type": "stream",
     "text": [
      "best mean cross-validation score: 0.994\n",
      "best parameters: {'C': 3.51, 'penalty': 'l2'}\n",
      "test-set score: 0.99077\n",
      "\n",
      "\n",
      "best mean cross-validation score: 0.994\n",
      "best parameters: {'n_neighbors': 1}\n",
      "test-set score: 0.99077\n"
     ]
    }
   ],
   "source": [
    "from sklearn.model_selection import GridSearchCV\n",
    "\n",
    "# Penalized logistic model with GridSearchCV\n",
    "param_grid = {'C': np.arange(.01, 10, .1),'penalty':['l2']}\n",
    "gridmodel = GridSearchCV(LogisticRegression(solver ='newton-cg'), param_grid=param_grid, cv=5)\n",
    "gridmodel.fit(preprocessor(X_train), y_train)\n",
    "print(\"best mean cross-validation score: {:.3f}\".format(gridmodel.best_score_))\n",
    "print(\"best parameters: {}\".format(gridmodel.best_params_))\n",
    "print(\"test-set score: {:.5f}\".format(gridmodel.score(preprocessor(X_test), y_test)))\n",
    "\n",
    "# KNN with GridSearchCV\n",
    "param_grid1 = {'n_neighbors': np.arange(1, 15, 2)}\n",
    "grid = GridSearchCV(KNeighborsClassifier(), param_grid=param_grid1, cv=5)\n",
    "grid.fit(preprocessor(X_train), y_train)\n",
    "print('\\n')\n",
    "print(\"best mean cross-validation score: {:.3f}\".format(grid.best_score_))\n",
    "print(\"best parameters: {}\".format(grid.best_params_))\n",
    "print(\"test-set score: {:.5f}\".format(grid.score(preprocessor(X_test), y_test)))"
   ]
  },
  {
   "cell_type": "markdown",
   "metadata": {
    "id": "X8zHL9KpbIoZ"
   },
   "source": [
    "For penalized logistic regression and KNN, the test-set score both becomes a little better."
   ]
  },
  {
   "cell_type": "markdown",
   "metadata": {
    "id": "jl5k_aPx7xag"
   },
   "source": [
    "**2.4** Change the cross-validation strategy in GridSearchCV from ‘stratified k-fold’ to ‘kfold’ with shuffling. Do the parameters for models that can be tuned change? Do they change if you change the random seed of the shuffling? Or if you change the random state of the split into training and test data?"
   ]
  },
  {
   "cell_type": "code",
   "execution_count": 27,
   "metadata": {
    "colab": {
     "base_uri": "https://localhost:8080/"
    },
    "id": "wirvuFxS785r",
    "outputId": "044fca32-cc2a-402d-f922-605f303d66d7"
   },
   "outputs": [
    {
     "name": "stdout",
     "output_type": "stream",
     "text": [
      "best mean cross-validation score: 0.994\n",
      "best parameters: {'C': 4.9, 'penalty': 'l2'}\n",
      "test-set score: 0.99077\n",
      "\n",
      "\n",
      "best mean cross-validation score: 0.994\n",
      "best parameters: {'C': 1.1, 'penalty': 'l2'}\n",
      "test-set score: 0.99015\n",
      "\n",
      "\n",
      "best mean cross-validation score: 0.994\n",
      "best parameters: {'n_neighbors': 9}\n",
      "test-set score: 0.98954\n",
      "\n",
      "\n",
      "best mean cross-validation score: 0.994\n",
      "best parameters: {'n_neighbors': 5}\n",
      "test-set score: 0.98892\n"
     ]
    }
   ],
   "source": [
    "from sklearn.model_selection import RepeatedKFold\n",
    "from sklearn.model_selection import StratifiedKFold\n",
    "from sklearn.model_selection import KFold\n",
    "\n",
    "kfold = KFold(n_splits=5, shuffle=True)\n",
    "skfold = StratifiedKFold(n_splits=5, shuffle=True)\n",
    "\n",
    "# Penalized logistic model with GridSearchCV\n",
    "param_grid = {'C': np.arange(.1, 10, .1),'penalty':['l2']}\n",
    "gridmodel = GridSearchCV(LogisticRegression(solver ='newton-cg'), param_grid=param_grid, cv=kfold)\n",
    "gridmodel1 = GridSearchCV(LogisticRegression(solver ='newton-cg'), param_grid=param_grid, cv=skfold)\n",
    "gridmodel.fit(preprocessor(X_train), y_train)\n",
    "gridmodel1.fit(preprocessor(X_train), y_train)\n",
    "print(\"best mean cross-validation score: {:.3f}\".format(gridmodel.best_score_))\n",
    "print(\"best parameters: {}\".format(gridmodel.best_params_))\n",
    "print(\"test-set score: {:.5f}\".format(gridmodel.score(preprocessor(X_test), y_test)))\n",
    "print('\\n')\n",
    "print(\"best mean cross-validation score: {:.3f}\".format(gridmodel1.best_score_))\n",
    "print(\"best parameters: {}\".format(gridmodel1.best_params_))\n",
    "print(\"test-set score: {:.5f}\".format(gridmodel1.score(preprocessor(X_test), y_test)))\n",
    "\n",
    "# KNN with GridSearchCV\n",
    "param_grid1 = {'n_neighbors': np.arange(1, 15, 2)}\n",
    "grid = GridSearchCV(KNeighborsClassifier(), param_grid=param_grid1, cv=kfold)\n",
    "grid1 = GridSearchCV(KNeighborsClassifier(), param_grid=param_grid1, cv=skfold)\n",
    "grid.fit(preprocessor(X_train), y_train)\n",
    "grid1.fit(preprocessor(X_train), y_train)\n",
    "print('\\n')\n",
    "print(\"best mean cross-validation score: {:.3f}\".format(grid.best_score_))\n",
    "print(\"best parameters: {}\".format(grid.best_params_))\n",
    "print(\"test-set score: {:.5f}\".format(grid.score(preprocessor(X_test), y_test)))\n",
    "print('\\n')\n",
    "print(\"best mean cross-validation score: {:.3f}\".format(grid1.best_score_))\n",
    "print(\"best parameters: {}\".format(grid1.best_params_))\n",
    "print(\"test-set score: {:.5f}\".format(grid1.score(preprocessor(X_test), y_test)))"
   ]
  },
  {
   "cell_type": "markdown",
   "metadata": {
    "id": "IhoH0j5sHx6d"
   },
   "source": [
    "- From kfold to skfold, the result can be different\n",
    "- For penalized logisstic model, kfold performs better than skfold; for KNN, skfold performs better than kfold"
   ]
  },
  {
   "cell_type": "code",
   "execution_count": 28,
   "metadata": {
    "colab": {
     "base_uri": "https://localhost:8080/"
    },
    "id": "POeG8rnCDXyd",
    "outputId": "e1ebdc7a-572f-4ec1-d0b5-41c62e13783a"
   },
   "outputs": [
    {
     "name": "stdout",
     "output_type": "stream",
     "text": [
      "best mean cross-validation score: 0.994\n",
      "best parameters: {'C': 6.3, 'penalty': 'l2'}\n",
      "test-set score: 0.99138\n",
      "\n",
      "\n",
      "best mean cross-validation score: 0.994\n",
      "best parameters: {'C': 1.2000000000000002, 'penalty': 'l2'}\n",
      "test-set score: 0.99077\n",
      "\n",
      "\n",
      "best mean cross-validation score: 0.994\n",
      "best parameters: {'n_neighbors': 5}\n",
      "test-set score: 0.98892\n",
      "\n",
      "\n",
      "best mean cross-validation score: 0.994\n",
      "best parameters: {'n_neighbors': 9}\n",
      "test-set score: 0.98954\n"
     ]
    }
   ],
   "source": [
    "# Change the random seed of the shuffling\n",
    "kfold1 = KFold(n_splits=5, shuffle=True, random_state=42)\n",
    "skfold1 = StratifiedKFold(n_splits=5, shuffle=True, random_state=42)\n",
    "\n",
    "# Penalized logistic model with GridSearchCV\n",
    "param_grid2 = {'C': np.arange(.1, 10, .1),'penalty':['l2']}\n",
    "model2 = GridSearchCV(LogisticRegression(solver ='newton-cg'), param_grid=param_grid2, cv=kfold1)\n",
    "model3 = GridSearchCV(LogisticRegression(solver ='newton-cg'), param_grid=param_grid2, cv=skfold1)\n",
    "model2.fit(preprocessor(X_train), y_train)\n",
    "model3.fit(preprocessor(X_train), y_train)\n",
    "print(\"best mean cross-validation score: {:.3f}\".format(model2.best_score_))\n",
    "print(\"best parameters: {}\".format(model2.best_params_))\n",
    "print(\"test-set score: {:.5f}\".format(model2.score(preprocessor(X_test), y_test)))\n",
    "print('\\n')\n",
    "print(\"best mean cross-validation score: {:.3f}\".format(model3.best_score_))\n",
    "print(\"best parameters: {}\".format(model3.best_params_))\n",
    "print(\"test-set score: {:.5f}\".format(model3.score(preprocessor(X_test), y_test)))\n",
    "\n",
    "# KNN with GridSearchCV\n",
    "param_grid3 = {'n_neighbors': np.arange(1, 15, 2)}\n",
    "model4 = GridSearchCV(KNeighborsClassifier(), param_grid=param_grid3, cv=kfold1)\n",
    "model5 = GridSearchCV(KNeighborsClassifier(), param_grid=param_grid3, cv=skfold1)\n",
    "model4.fit(preprocessor(X_train), y_train)\n",
    "model5.fit(preprocessor(X_train), y_train)\n",
    "print('\\n')\n",
    "print(\"best mean cross-validation score: {:.3f}\".format(model4.best_score_))\n",
    "print(\"best parameters: {}\".format(model4.best_params_))\n",
    "print(\"test-set score: {:.5f}\".format(model4.score(preprocessor(X_test), y_test)))\n",
    "print('\\n')\n",
    "print(\"best mean cross-validation score: {:.3f}\".format(model5.best_score_))\n",
    "print(\"best parameters: {}\".format(model5.best_params_))\n",
    "print(\"test-set score: {:.5f}\".format(model5.score(preprocessor(X_test), y_test)))"
   ]
  },
  {
   "cell_type": "markdown",
   "metadata": {
    "id": "X5MK8yImIE4G"
   },
   "source": [
    "Through changing the random seed of the shuffling, the result can be different."
   ]
  },
  {
   "cell_type": "code",
   "execution_count": 32,
   "metadata": {
    "colab": {
     "base_uri": "https://localhost:8080/"
    },
    "id": "aXRLTxFQF7Bd",
    "outputId": "9c92f460-3565-494d-983d-b8cf9f148f27"
   },
   "outputs": [
    {
     "name": "stdout",
     "output_type": "stream",
     "text": [
      "best mean cross-validation score: 0.994\n",
      "best parameters: {'C': 0.6, 'penalty': 'l2'}\n",
      "test-set score: 0.99200\n",
      "\n",
      "\n",
      "best mean cross-validation score: 0.994\n",
      "best parameters: {'C': 0.8, 'penalty': 'l2'}\n",
      "test-set score: 0.99323\n",
      "\n",
      "\n",
      "best mean cross-validation score: 0.993\n",
      "best parameters: {'n_neighbors': 1}\n",
      "test-set score: 0.99200\n",
      "\n",
      "\n",
      "best mean cross-validation score: 0.993\n",
      "best parameters: {'n_neighbors': 1}\n",
      "test-set score: 0.99385\n"
     ]
    }
   ],
   "source": [
    "# Change the random state of the split into training and test data\n",
    "X1_train, X1_test, y1_train, y1_test = train_test_split(X, y, random_state=15) \n",
    "kfold1 = KFold(n_splits=5, shuffle=True, random_state=42)\n",
    "skfold1 = StratifiedKFold(n_splits=5, shuffle=True, random_state=42)\n",
    "\n",
    "# Penalized logistic model with GridSearchCV\n",
    "param_grid2 = {'C': np.arange(.1, 10, .1),'penalty':['l2']}\n",
    "model6 = GridSearchCV(LogisticRegression(solver ='newton-cg'), param_grid=param_grid2, cv=kfold1)\n",
    "model7 = GridSearchCV(LogisticRegression(solver ='newton-cg'), param_grid=param_grid2, cv=skfold1)\n",
    "model6.fit(preprocessor(X1_train), y1_train)\n",
    "model7.fit(preprocessor(X1_train), y1_train)\n",
    "print(\"best mean cross-validation score: {:.3f}\".format(model6.best_score_))\n",
    "print(\"best parameters: {}\".format(model6.best_params_))\n",
    "print(\"test-set score: {:.5f}\".format(model6.score(preprocessor(X1_test), y1_test)))\n",
    "print('\\n')\n",
    "print(\"best mean cross-validation score: {:.3f}\".format(model7.best_score_))\n",
    "print(\"best parameters: {}\".format(model7.best_params_))\n",
    "print(\"test-set score: {:.5f}\".format(model7.score(preprocessor(X1_test), y1_test)))\n",
    "\n",
    "# KNN with GridSearchCV\n",
    "param_grid3 = {'n_neighbors': np.arange(1, 15, 2)}\n",
    "model8 = GridSearchCV(KNeighborsClassifier(), param_grid=param_grid3, cv=kfold1)\n",
    "model9 = GridSearchCV(KNeighborsClassifier(), param_grid=param_grid3, cv=skfold1)\n",
    "model8.fit(preprocessor(X1_train), y1_train)\n",
    "model9.fit(preprocessor(X1_train), y1_train)\n",
    "print('\\n')\n",
    "print(\"best mean cross-validation score: {:.3f}\".format(model8.best_score_))\n",
    "print(\"best parameters: {}\".format(model9.best_params_))\n",
    "print(\"test-set score: {:.5f}\".format(model8.score(preprocessor(X1_test), y1_test)))\n",
    "print('\\n')\n",
    "print(\"best mean cross-validation score: {:.3f}\".format(model9.best_score_))\n",
    "print(\"best parameters: {}\".format(model9.best_params_))\n",
    "print(\"test-set score: {:.5f}\".format(model9.score(preprocessor(X1_test), y1_test)))"
   ]
  },
  {
   "cell_type": "markdown",
   "metadata": {
    "id": "vXEoX_VfIVAl"
   },
   "source": [
    "By changing the random state of the split into training and test data, the results become better here."
   ]
  },
  {
   "cell_type": "markdown",
   "metadata": {
    "id": "nVMl217lemar"
   },
   "source": [
    "**2.5** Compare the coefficients of your two best logistic regression models (not knn), do they agree on which features are important?"
   ]
  },
  {
   "cell_type": "code",
   "execution_count": 34,
   "metadata": {
    "colab": {
     "base_uri": "https://localhost:8080/"
    },
    "id": "OJogahFFfBkT",
    "outputId": "f9d5636e-38cc-4711-80b8-2ad7c0ce0f59"
   },
   "outputs": [
    {
     "name": "stdout",
     "output_type": "stream",
     "text": [
      "LogisticRegression.coef_: [[ 0.23593592  1.58974487 -0.28658209 -4.93808655  0.79248033  1.29840838\n",
      "  -3.18179794  4.53207344  0.0204608   0.62839167  1.51230794  0.34655891]]\n",
      "PenalizedLogisticRegression.coef_: [[ 0.36756793  1.58110405 -0.28390972 -4.47945942  0.81332624  1.19450871\n",
      "  -3.09652535  4.10144516  0.13925589  0.66051118  1.32226698  0.32522912]]\n"
     ]
    }
   ],
   "source": [
    "print(\"LogisticRegression.coef_: {}\".format(model1.coef_))\n",
    "\n",
    "# Use the GridSearchCV result acquired in 2.4\n",
    "pl2 = LogisticRegression(C=6.3, penalty = 'l2', max_iter=10000).fit(preprocessor(X_train), y_train)\n",
    "print(\"PenalizedLogisticRegression.coef_: {}\".format(pl2.coef_))"
   ]
  },
  {
   "cell_type": "markdown",
   "metadata": {
    "id": "-krt1RJ0hK6m"
   },
   "source": [
    "- The coefficients of the two models don't have much difference except for the variable 'pH'.\n",
    "- 'density' has the most positive influence on 'winetype' while 'residual sugar' has the most negtive impact. "
   ]
  },
  {
   "cell_type": "markdown",
   "metadata": {
    "id": "191acztLhBzp"
   },
   "source": [
    "**2.6** Discuss which final model you would choose to predict new data"
   ]
  },
  {
   "cell_type": "markdown",
   "metadata": {
    "id": "bhn7m9iIhl-2"
   },
   "source": [
    "The final model I want to use is the logistic regression model with C = 6.3, penalty = 'l2' with scaled data. This model has a relatively high score and at the same time can help shrink the variable coefficients which may exist multicollinearity."
   ]
  }
 ],
 "metadata": {
  "colab": {
   "collapsed_sections": [],
   "name": "HW2_Lixian.ipynb",
   "provenance": []
  },
  "kernelspec": {
   "display_name": "Python 3",
   "language": "python",
   "name": "python3"
  },
  "language_info": {
   "codemirror_mode": {
    "name": "ipython",
    "version": 3
   },
   "file_extension": ".py",
   "mimetype": "text/x-python",
   "name": "python",
   "nbconvert_exporter": "python",
   "pygments_lexer": "ipython3",
   "version": "3.7.4"
  }
 },
 "nbformat": 4,
 "nbformat_minor": 1
}
